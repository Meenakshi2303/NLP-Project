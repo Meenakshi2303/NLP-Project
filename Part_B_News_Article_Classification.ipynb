{
 "cells": [
  {
   "cell_type": "markdown",
   "id": "465f4765-5b7c-416f-a888-217e53e8f442",
   "metadata": {
    "id": "465f4765-5b7c-416f-a888-217e53e8f442"
   },
   "source": [
    "# Part B: News Article Classification"
   ]
  },
  {
   "cell_type": "code",
   "execution_count": 77,
   "id": "a7f90320-05e0-42f1-a583-049418b8609d",
   "metadata": {
    "id": "a7f90320-05e0-42f1-a583-049418b8609d"
   },
   "outputs": [],
   "source": [
    "# Importing Required Libraries\n",
    "import pandas as pd\n",
    "import matplotlib.pyplot as plt\n",
    "import seaborn as sns\n",
    "\n",
    "import re\n",
    "import nltk\n",
    "from scipy.sparse import hstack\n",
    "\n",
    "from sklearn.preprocessing import LabelEncoder\n",
    "from sklearn.model_selection import train_test_split\n",
    "\n",
    "from sklearn.feature_extraction.text import CountVectorizer\n",
    "from sklearn.feature_extraction.text import TfidfVectorizer\n",
    "\n",
    "from sklearn.linear_model import LogisticRegression\n",
    "from sklearn.metrics import accuracy_score, confusion_matrix, classification_report\n",
    "\n",
    "from sklearn.ensemble import RandomForestClassifier\n",
    "from sklearn.svm import SVC\n",
    "\n",
    "from nltk.tokenize import word_tokenize\n",
    "from nltk.corpus import stopwords\n",
    "\n",
    "from nltk.stem import PorterStemmer\n",
    "from nltk.stem import WordNetLemmatizer\n",
    "\n",
    "from sklearn.model_selection import RandomizedSearchCV\n"
   ]
  },
  {
   "cell_type": "markdown",
   "id": "76f3271b-384c-42e5-a570-e8f978eef665",
   "metadata": {
    "id": "76f3271b-384c-42e5-a570-e8f978eef665"
   },
   "source": [
    "# 1. Data Collection and Preprocessing"
   ]
  },
  {
   "cell_type": "markdown",
   "id": "01b9e542-b3ad-4c8d-9144-d2e3a764454f",
   "metadata": {
    "id": "01b9e542-b3ad-4c8d-9144-d2e3a764454f"
   },
   "source": [
    "#### 1a. Collect a dataset of labeled news articles (sports, politics, technology etc)."
   ]
  },
  {
   "cell_type": "code",
   "execution_count": 80,
   "id": "6c4851f9-25cf-4c4e-851a-01874b84101f",
   "metadata": {
    "id": "6c4851f9-25cf-4c4e-851a-01874b84101f"
   },
   "outputs": [],
   "source": [
    "# Loading CSV file into a DataFrame\n",
    "news_df = pd.read_csv('data_news.csv')"
   ]
  },
  {
   "cell_type": "code",
   "execution_count": 81,
   "id": "9834f135-fd71-4b17-8403-2be945b1e7fc",
   "metadata": {
    "colab": {
     "base_uri": "https://localhost:8080/"
    },
    "id": "9834f135-fd71-4b17-8403-2be945b1e7fc",
    "outputId": "1f402857-9eca-49eb-98f3-20f6990ff720"
   },
   "outputs": [
    {
     "name": "stdout",
     "output_type": "stream",
     "text": [
      "   category                                           headline  \\\n",
      "0  WELLNESS              143 Miles in 35 Days: Lessons Learned   \n",
      "1  WELLNESS       Talking to Yourself: Crazy or Crazy Helpful?   \n",
      "2  WELLNESS  Crenezumab: Trial Will Gauge Whether Alzheimer...   \n",
      "3  WELLNESS                     Oh, What a Difference She Made   \n",
      "4  WELLNESS                                   Green Superfoods   \n",
      "\n",
      "                                               links  \\\n",
      "0  https://www.huffingtonpost.com/entry/running-l...   \n",
      "1  https://www.huffingtonpost.com/entry/talking-t...   \n",
      "2  https://www.huffingtonpost.com/entry/crenezuma...   \n",
      "3  https://www.huffingtonpost.com/entry/meaningfu...   \n",
      "4  https://www.huffingtonpost.com/entry/green-sup...   \n",
      "\n",
      "                                   short_description  \\\n",
      "0  Resting is part of training. I've confirmed wh...   \n",
      "1  Think of talking to yourself as a tool to coac...   \n",
      "2  The clock is ticking for the United States to ...   \n",
      "3  If you want to be busy, keep trying to be perf...   \n",
      "4  First, the bad news: Soda bread, corned beef a...   \n",
      "\n",
      "                             keywords  \n",
      "0                     running-lessons  \n",
      "1           talking-to-yourself-crazy  \n",
      "2  crenezumab-alzheimers-disease-drug  \n",
      "3                     meaningful-life  \n",
      "4                    green-superfoods  \n"
     ]
    }
   ],
   "source": [
    "# Displaying the first 5 rows\n",
    "print(news_df.head())"
   ]
  },
  {
   "cell_type": "code",
   "execution_count": 82,
   "id": "c4df717a-67aa-4da4-8a78-f94332e2478e",
   "metadata": {
    "colab": {
     "base_uri": "https://localhost:8080/"
    },
    "id": "c4df717a-67aa-4da4-8a78-f94332e2478e",
    "outputId": "2db51cd1-39a6-4271-92ab-329b7fe54545"
   },
   "outputs": [
    {
     "data": {
      "text/plain": [
       "(50000, 5)"
      ]
     },
     "execution_count": 82,
     "metadata": {},
     "output_type": "execute_result"
    }
   ],
   "source": [
    "# Displaying number of rows and columns present in the dataframe\n",
    "news_df.shape"
   ]
  },
  {
   "cell_type": "markdown",
   "id": "0c37a830-655c-418f-b45d-094fa03e6151",
   "metadata": {
    "id": "0c37a830-655c-418f-b45d-094fa03e6151"
   },
   "source": [
    "#### 1b. Handle missing data, if any, and ensure the text is ready for feature extraction."
   ]
  },
  {
   "cell_type": "code",
   "execution_count": 84,
   "id": "58e7f665-9423-4cfd-bb9d-0d1992b5a4ca",
   "metadata": {
    "colab": {
     "base_uri": "https://localhost:8080/",
     "height": 241
    },
    "id": "58e7f665-9423-4cfd-bb9d-0d1992b5a4ca",
    "outputId": "8b19419d-969c-4a85-867d-c0ca28a8bc75",
    "scrolled": true
   },
   "outputs": [
    {
     "data": {
      "text/plain": [
       "category                0\n",
       "headline                0\n",
       "links                   0\n",
       "short_description       0\n",
       "keywords             2668\n",
       "dtype: int64"
      ]
     },
     "execution_count": 84,
     "metadata": {},
     "output_type": "execute_result"
    }
   ],
   "source": [
    "# Checking if there are any null values or missing values present in the dataframe\n",
    "news_df.isnull().sum()"
   ]
  },
  {
   "cell_type": "markdown",
   "id": "91a3f6ab-6778-44ed-921b-66f3ac25dafc",
   "metadata": {
    "id": "91a3f6ab-6778-44ed-921b-66f3ac25dafc"
   },
   "source": [
    "#### Obervations:\n",
    "Keyword Feature has 2668 null values in it."
   ]
  },
  {
   "cell_type": "code",
   "execution_count": 86,
   "id": "57ac7b08-8c82-46fc-a67b-6a111d2f9acb",
   "metadata": {
    "id": "57ac7b08-8c82-46fc-a67b-6a111d2f9acb"
   },
   "outputs": [],
   "source": [
    "# Filling the null values with the mode of the column\n",
    "news_df['keywords'] = news_df['keywords'].fillna(news_df['keywords'].mode()[0])"
   ]
  },
  {
   "cell_type": "markdown",
   "id": "1c745805-ac49-40ed-b56f-d9a1de3b6320",
   "metadata": {
    "id": "1c745805-ac49-40ed-b56f-d9a1de3b6320"
   },
   "source": [
    "#### 1c. Clean and preprocess the text data."
   ]
  },
  {
   "cell_type": "markdown",
   "id": "529b1ef0-d77d-4883-90fa-41fa1327c339",
   "metadata": {
    "id": "529b1ef0-d77d-4883-90fa-41fa1327c339"
   },
   "source": [
    "#### a. Removing punctuation, special characters and converting text to lowercase."
   ]
  },
  {
   "cell_type": "code",
   "execution_count": 89,
   "id": "a9687475-4e44-473c-93dd-73f6c4691db3",
   "metadata": {
    "id": "a9687475-4e44-473c-93dd-73f6c4691db3"
   },
   "outputs": [],
   "source": [
    "# Converting all the headline to lowercase\n",
    "news_df['headline']= news_df['headline'].str.lower()"
   ]
  },
  {
   "cell_type": "code",
   "execution_count": 90,
   "id": "26ba3f24-2762-4e91-b1e4-23568cd4b5a5",
   "metadata": {
    "id": "26ba3f24-2762-4e91-b1e4-23568cd4b5a5"
   },
   "outputs": [],
   "source": [
    "# Converting all the short_description to lowercase\n",
    "news_df['short_description']= news_df['short_description'].str.lower()"
   ]
  },
  {
   "cell_type": "code",
   "execution_count": 91,
   "id": "31f44380-ed58-4168-b5ee-834cfd572866",
   "metadata": {
    "id": "31f44380-ed58-4168-b5ee-834cfd572866"
   },
   "outputs": [],
   "source": [
    "# Converting all the keywords to lowercase\n",
    "news_df['keywords']= news_df['keywords'].str.lower()"
   ]
  },
  {
   "cell_type": "code",
   "execution_count": 92,
   "id": "007e858b-1ff5-4664-a018-c62d8cf70600",
   "metadata": {
    "id": "007e858b-1ff5-4664-a018-c62d8cf70600"
   },
   "outputs": [],
   "source": [
    "# Creating a custom function for removing punctuation and special_characters for columns with text data type\n",
    "def remove_punctuation_special_characters(input_text):\n",
    "    # Removing special characters and punctuation from the input_text column\n",
    "    output_review=re.sub(r'[^a-z\\s]','',input_text)\n",
    "    return output_review"
   ]
  },
  {
   "cell_type": "markdown",
   "id": "f1d75b2c-aaa8-4df4-8128-03d2cc67cb30",
   "metadata": {
    "id": "f1d75b2c-aaa8-4df4-8128-03d2cc67cb30"
   },
   "source": [
    "#### b. Tokenization of text (splitting text into words).\n"
   ]
  },
  {
   "cell_type": "code",
   "execution_count": 94,
   "id": "f42f8c54-5f61-4557-b0e8-98dc4cca5f90",
   "metadata": {
    "id": "f42f8c54-5f61-4557-b0e8-98dc4cca5f90"
   },
   "outputs": [],
   "source": [
    "# Creating function to columns with text data type\n",
    "def tokenize_text(input_text):\n",
    "    return word_tokenize(input_text)"
   ]
  },
  {
   "cell_type": "markdown",
   "id": "0a7d5327-0b2c-4e80-8824-5b123878d8b1",
   "metadata": {
    "id": "0a7d5327-0b2c-4e80-8824-5b123878d8b1"
   },
   "source": [
    "#### c. Removing extra spaces and stop words from reviews"
   ]
  },
  {
   "cell_type": "code",
   "execution_count": 96,
   "id": "ad993985-0070-409a-b219-e35e9bcc0ec5",
   "metadata": {
    "colab": {
     "base_uri": "https://localhost:8080/"
    },
    "id": "ad993985-0070-409a-b219-e35e9bcc0ec5",
    "outputId": "fcc46b51-9af3-4761-ea7d-6a401269989a"
   },
   "outputs": [
    {
     "name": "stdout",
     "output_type": "stream",
     "text": [
      "False\n"
     ]
    }
   ],
   "source": [
    "# Removing \"not\" word from stopword list. As it might have impact on text data type column\n",
    "stop_words = set(stopwords.words('english'))\n",
    "stop_words.discard('not')\n",
    "print(\"not\" in stop_words)"
   ]
  },
  {
   "cell_type": "code",
   "execution_count": 97,
   "id": "3ec53e35-b772-4d59-abc4-ad853e8562a3",
   "metadata": {
    "id": "3ec53e35-b772-4d59-abc4-ad853e8562a3"
   },
   "outputs": [],
   "source": [
    "# Creating function to remove stopwords and extra spaces from columns with text data type\n",
    "def remove_extra_spaces_and_stopwords(input_text):\n",
    "\n",
    "    # Removing any extra spaces in each word of the input_text\n",
    "    tokens = [token.strip() for token in input_text]\n",
    "\n",
    "    # Removing stopwords from input_text\n",
    "    return [word for word in input_text if word not in stop_words]\n"
   ]
  },
  {
   "cell_type": "markdown",
   "id": "d0ca2fb8-c878-4bed-800c-5344d3b448b4",
   "metadata": {
    "id": "d0ca2fb8-c878-4bed-800c-5344d3b448b4"
   },
   "source": [
    "#### d. Performing Lemmatization"
   ]
  },
  {
   "cell_type": "code",
   "execution_count": 99,
   "id": "721eb2a1-3b95-499a-80fb-d53774aa14f3",
   "metadata": {
    "id": "721eb2a1-3b95-499a-80fb-d53774aa14f3"
   },
   "outputs": [],
   "source": [
    "# Creating function to lemmatize tokenised text\n",
    "def lemmatizer_tokens(input_text):\n",
    "    lemmatizer = WordNetLemmatizer()\n",
    "    return [lemmatizer.lemmatize(word) for word in input_text]\n"
   ]
  },
  {
   "cell_type": "code",
   "execution_count": 100,
   "id": "afae3313-16e1-4f9d-89de-6554eb560db1",
   "metadata": {
    "id": "afae3313-16e1-4f9d-89de-6554eb560db1"
   },
   "outputs": [],
   "source": [
    "# Creating function to join cleaned text into a single string\n",
    "def join_tokens(input_text):\n",
    "    return ' '.join(input_text)"
   ]
  },
  {
   "cell_type": "code",
   "execution_count": 101,
   "id": "3032373f-27fa-4b13-a73a-d6caa99f0787",
   "metadata": {
    "id": "3032373f-27fa-4b13-a73a-d6caa99f0787"
   },
   "outputs": [],
   "source": [
    "# Applying remove_punctuation_special_characters function to text columns\n",
    "news_df['headline']= news_df['headline'].apply(remove_punctuation_special_characters)\n",
    "news_df['short_description']= news_df['short_description'].apply(remove_punctuation_special_characters)"
   ]
  },
  {
   "cell_type": "code",
   "execution_count": 102,
   "id": "59755289-113b-4a29-8691-6fac43e5e99c",
   "metadata": {
    "id": "59755289-113b-4a29-8691-6fac43e5e99c"
   },
   "outputs": [],
   "source": [
    "# Creating remove_hyphen function\n",
    "def remove_hyphen(input_text):\n",
    "    # Removing hyphens and split compound words\n",
    "    input_text = re.sub(r'[-]', ' ', input_text)\n",
    "    return input_text"
   ]
  },
  {
   "cell_type": "code",
   "execution_count": 103,
   "id": "9d0ff626-40a5-4305-883a-18337d70667a",
   "metadata": {
    "id": "9d0ff626-40a5-4305-883a-18337d70667a"
   },
   "outputs": [],
   "source": [
    "# Applying remove_hyphen function to text columns\n",
    "news_df['keywords']= news_df['keywords'].apply(remove_hyphen)"
   ]
  },
  {
   "cell_type": "code",
   "execution_count": 104,
   "id": "6e8093cc-3ced-4f57-9631-28fbfae798b5",
   "metadata": {
    "id": "6e8093cc-3ced-4f57-9631-28fbfae798b5"
   },
   "outputs": [],
   "source": [
    "# Applying remove_punctuation_special_characters function to text columns\n",
    "news_df['keywords']= news_df['keywords'].apply(remove_punctuation_special_characters)"
   ]
  },
  {
   "cell_type": "code",
   "execution_count": 105,
   "id": "7dcfa32c-867b-4652-804b-1a1341631fc3",
   "metadata": {
    "id": "7dcfa32c-867b-4652-804b-1a1341631fc3"
   },
   "outputs": [],
   "source": [
    "# Applying tokenize_text functions to text columns\n",
    "news_df['headline']= news_df['headline'].apply(tokenize_text)\n",
    "news_df['short_description']= news_df['short_description'].apply(tokenize_text)\n",
    "news_df['keywords']= news_df['keywords'].apply(tokenize_text)"
   ]
  },
  {
   "cell_type": "code",
   "execution_count": 106,
   "id": "2e13e4a9-d090-40df-bfa1-c78f651e74a1",
   "metadata": {
    "id": "2e13e4a9-d090-40df-bfa1-c78f651e74a1"
   },
   "outputs": [],
   "source": [
    "# Applying remove_extra_spaces_and_stopwords functions to text columns\n",
    "news_df['headline']= news_df['headline'].apply(remove_extra_spaces_and_stopwords)\n",
    "news_df['short_description']= news_df['short_description'].apply(remove_extra_spaces_and_stopwords)\n",
    "news_df['keywords']= news_df['keywords'].apply(remove_extra_spaces_and_stopwords)"
   ]
  },
  {
   "cell_type": "code",
   "execution_count": 107,
   "id": "12b4ff53-3c21-4502-a3b9-633b0b4e1991",
   "metadata": {
    "id": "12b4ff53-3c21-4502-a3b9-633b0b4e1991"
   },
   "outputs": [],
   "source": [
    "# Applying the lemmatize_tokens functions to text columns\n",
    "news_df['headline']= news_df['headline'].apply(lemmatizer_tokens)\n",
    "news_df['short_description']= news_df['short_description'].apply(lemmatizer_tokens)\n",
    "news_df['keywords']= news_df['keywords'].apply(lemmatizer_tokens)"
   ]
  },
  {
   "cell_type": "code",
   "execution_count": 108,
   "id": "8f09f71d-8974-4bd7-9c52-72dee5770821",
   "metadata": {
    "id": "8f09f71d-8974-4bd7-9c52-72dee5770821"
   },
   "outputs": [],
   "source": [
    "# Applying join_tokens functions to text columns\n",
    "news_df['headline']= news_df['headline'].apply(join_tokens)\n",
    "news_df['short_description']= news_df['short_description'].apply(join_tokens)\n",
    "news_df['keywords']= news_df['keywords'].apply(join_tokens)"
   ]
  },
  {
   "cell_type": "code",
   "execution_count": 109,
   "id": "66550fb2-d6cd-4434-98a6-b59d26906665",
   "metadata": {
    "colab": {
     "base_uri": "https://localhost:8080/",
     "height": 293
    },
    "id": "66550fb2-d6cd-4434-98a6-b59d26906665",
    "outputId": "202745c3-144e-4c09-8021-10f86dad5e41",
    "scrolled": true
   },
   "outputs": [
    {
     "data": {
      "text/html": [
       "<div>\n",
       "<style scoped>\n",
       "    .dataframe tbody tr th:only-of-type {\n",
       "        vertical-align: middle;\n",
       "    }\n",
       "\n",
       "    .dataframe tbody tr th {\n",
       "        vertical-align: top;\n",
       "    }\n",
       "\n",
       "    .dataframe thead th {\n",
       "        text-align: right;\n",
       "    }\n",
       "</style>\n",
       "<table border=\"1\" class=\"dataframe\">\n",
       "  <thead>\n",
       "    <tr style=\"text-align: right;\">\n",
       "      <th></th>\n",
       "      <th>category</th>\n",
       "      <th>headline</th>\n",
       "      <th>links</th>\n",
       "      <th>short_description</th>\n",
       "      <th>keywords</th>\n",
       "    </tr>\n",
       "  </thead>\n",
       "  <tbody>\n",
       "    <tr>\n",
       "      <th>0</th>\n",
       "      <td>WELLNESS</td>\n",
       "      <td>mile day lesson learned</td>\n",
       "      <td>https://www.huffingtonpost.com/entry/running-l...</td>\n",
       "      <td>resting part training ive confirmed sort alrea...</td>\n",
       "      <td>running lesson</td>\n",
       "    </tr>\n",
       "    <tr>\n",
       "      <th>1</th>\n",
       "      <td>WELLNESS</td>\n",
       "      <td>talking crazy crazy helpful</td>\n",
       "      <td>https://www.huffingtonpost.com/entry/talking-t...</td>\n",
       "      <td>think talking tool coach challenge narrate exp...</td>\n",
       "      <td>talking crazy</td>\n",
       "    </tr>\n",
       "    <tr>\n",
       "      <th>2</th>\n",
       "      <td>WELLNESS</td>\n",
       "      <td>crenezumab trial gauge whether alzheimers drug...</td>\n",
       "      <td>https://www.huffingtonpost.com/entry/crenezuma...</td>\n",
       "      <td>clock ticking united state find cure team work...</td>\n",
       "      <td>crenezumab alzheimers disease drug</td>\n",
       "    </tr>\n",
       "    <tr>\n",
       "      <th>3</th>\n",
       "      <td>WELLNESS</td>\n",
       "      <td>oh difference made</td>\n",
       "      <td>https://www.huffingtonpost.com/entry/meaningfu...</td>\n",
       "      <td>want busy keep trying perfect want happy focus...</td>\n",
       "      <td>meaningful life</td>\n",
       "    </tr>\n",
       "    <tr>\n",
       "      <th>4</th>\n",
       "      <td>WELLNESS</td>\n",
       "      <td>green superfoods</td>\n",
       "      <td>https://www.huffingtonpost.com/entry/green-sup...</td>\n",
       "      <td>first bad news soda bread corned beef beer not...</td>\n",
       "      <td>green superfoods</td>\n",
       "    </tr>\n",
       "  </tbody>\n",
       "</table>\n",
       "</div>"
      ],
      "text/plain": [
       "   category                                           headline  \\\n",
       "0  WELLNESS                            mile day lesson learned   \n",
       "1  WELLNESS                        talking crazy crazy helpful   \n",
       "2  WELLNESS  crenezumab trial gauge whether alzheimers drug...   \n",
       "3  WELLNESS                                 oh difference made   \n",
       "4  WELLNESS                                   green superfoods   \n",
       "\n",
       "                                               links  \\\n",
       "0  https://www.huffingtonpost.com/entry/running-l...   \n",
       "1  https://www.huffingtonpost.com/entry/talking-t...   \n",
       "2  https://www.huffingtonpost.com/entry/crenezuma...   \n",
       "3  https://www.huffingtonpost.com/entry/meaningfu...   \n",
       "4  https://www.huffingtonpost.com/entry/green-sup...   \n",
       "\n",
       "                                   short_description  \\\n",
       "0  resting part training ive confirmed sort alrea...   \n",
       "1  think talking tool coach challenge narrate exp...   \n",
       "2  clock ticking united state find cure team work...   \n",
       "3  want busy keep trying perfect want happy focus...   \n",
       "4  first bad news soda bread corned beef beer not...   \n",
       "\n",
       "                             keywords  \n",
       "0                      running lesson  \n",
       "1                       talking crazy  \n",
       "2  crenezumab alzheimers disease drug  \n",
       "3                     meaningful life  \n",
       "4                    green superfoods  "
      ]
     },
     "execution_count": 109,
     "metadata": {},
     "output_type": "execute_result"
    }
   ],
   "source": [
    "# Displaying the first 5 rows\n",
    "news_df.head()"
   ]
  },
  {
   "cell_type": "markdown",
   "id": "63104cee-ce24-44fa-9b1f-a06e3659b8df",
   "metadata": {
    "id": "63104cee-ce24-44fa-9b1f-a06e3659b8df"
   },
   "source": [
    "# 2. Feature Extraction"
   ]
  },
  {
   "cell_type": "markdown",
   "id": "ae93197b-e8da-4404-9843-f3d70f199601",
   "metadata": {
    "id": "ae93197b-e8da-4404-9843-f3d70f199601"
   },
   "source": [
    "#### 1. Use methods like TF-IDF, word embeddings (e.g., Word2Vec, GloVe), or bag-of-words to convert text data into numerical features."
   ]
  },
  {
   "cell_type": "code",
   "execution_count": 112,
   "id": "pFyiiQfdAnyt",
   "metadata": {
    "id": "pFyiiQfdAnyt"
   },
   "outputs": [],
   "source": [
    "# Creating a new column in the DataFrame to store the length of each headline by counting words in each headline\n",
    "news_df['headline_word_count'] = news_df['headline'].apply(lambda x: len(x.split()))"
   ]
  },
  {
   "cell_type": "code",
   "execution_count": 113,
   "id": "U358yj-_AlbF",
   "metadata": {
    "id": "U358yj-_AlbF"
   },
   "outputs": [],
   "source": [
    "# Creating a new column in the DataFrame to store the length of each headline by counting words in each short description\n",
    "news_df['short_decription_word_count'] = news_df['short_description'].apply(lambda x: len(x.split()))"
   ]
  },
  {
   "cell_type": "code",
   "execution_count": 114,
   "id": "e0b27df5-c82e-4158-8819-36f679c314a4",
   "metadata": {
    "id": "e0b27df5-c82e-4158-8819-36f679c314a4"
   },
   "outputs": [],
   "source": [
    "# Calculating the total number of characters in headline column\n",
    "news_df['headline_char_count'] = news_df['headline'].str.len()"
   ]
  },
  {
   "cell_type": "code",
   "execution_count": 115,
   "id": "676fd781-f86d-4925-a87b-ed447e9a7276",
   "metadata": {
    "id": "676fd781-f86d-4925-a87b-ed447e9a7276"
   },
   "outputs": [],
   "source": [
    "# Calculating the total number of characters in short_description column\n",
    "news_df['short_description_char_count'] = news_df['short_description'].str.len()"
   ]
  },
  {
   "cell_type": "code",
   "execution_count": 116,
   "id": "cd6df94b-482e-453a-8af3-dea08991c891",
   "metadata": {
    "id": "cd6df94b-482e-453a-8af3-dea08991c891"
   },
   "outputs": [],
   "source": [
    "# Avoiding division by zero by replacing zero word counts with NaN\n",
    "news_df['headline_avg_word_length'] = news_df.apply(lambda row: row['headline_char_count'] / row['headline_word_count'] if row['headline_word_count'] > 0 else 0, axis=1)"
   ]
  },
  {
   "cell_type": "code",
   "execution_count": 117,
   "id": "847c4987",
   "metadata": {
    "id": "847c4987"
   },
   "outputs": [],
   "source": [
    "# Avoiding division by zero by replacing zero word counts with NaN\n",
    "news_df['short_description_avg_word_length'] = news_df.apply(lambda row: row['short_description_char_count'] / row['short_decription_word_count'] if row['short_decription_word_count'] > 0 else 0, axis=1)"
   ]
  },
  {
   "cell_type": "code",
   "execution_count": 121,
   "id": "b3c593ed-b1bc-4c27-98dd-b9a6be14975e",
   "metadata": {
    "colab": {
     "base_uri": "https://localhost:8080/",
     "height": 434
    },
    "id": "b3c593ed-b1bc-4c27-98dd-b9a6be14975e",
    "outputId": "6fbfc7b5-4cc4-409f-a7bb-747a090b73cd"
   },
   "outputs": [
    {
     "data": {
      "text/html": [
       "<div>\n",
       "<style scoped>\n",
       "    .dataframe tbody tr th:only-of-type {\n",
       "        vertical-align: middle;\n",
       "    }\n",
       "\n",
       "    .dataframe tbody tr th {\n",
       "        vertical-align: top;\n",
       "    }\n",
       "\n",
       "    .dataframe thead th {\n",
       "        text-align: right;\n",
       "    }\n",
       "</style>\n",
       "<table border=\"1\" class=\"dataframe\">\n",
       "  <thead>\n",
       "    <tr style=\"text-align: right;\">\n",
       "      <th></th>\n",
       "      <th>category</th>\n",
       "      <th>headline</th>\n",
       "      <th>links</th>\n",
       "      <th>short_description</th>\n",
       "      <th>keywords</th>\n",
       "      <th>headline_word_count</th>\n",
       "      <th>short_decription_word_count</th>\n",
       "      <th>headline_char_count</th>\n",
       "      <th>short_description_char_count</th>\n",
       "      <th>headline_avg_word_length</th>\n",
       "      <th>short_description_avg_word_length</th>\n",
       "    </tr>\n",
       "  </thead>\n",
       "  <tbody>\n",
       "    <tr>\n",
       "      <th>0</th>\n",
       "      <td>WELLNESS</td>\n",
       "      <td>mile day lesson learned</td>\n",
       "      <td>https://www.huffingtonpost.com/entry/running-l...</td>\n",
       "      <td>resting part training ive confirmed sort alrea...</td>\n",
       "      <td>running lesson</td>\n",
       "      <td>4</td>\n",
       "      <td>33</td>\n",
       "      <td>23</td>\n",
       "      <td>203</td>\n",
       "      <td>5.750000</td>\n",
       "      <td>6.151515</td>\n",
       "    </tr>\n",
       "    <tr>\n",
       "      <th>1</th>\n",
       "      <td>WELLNESS</td>\n",
       "      <td>talking crazy crazy helpful</td>\n",
       "      <td>https://www.huffingtonpost.com/entry/talking-t...</td>\n",
       "      <td>think talking tool coach challenge narrate exp...</td>\n",
       "      <td>talking crazy</td>\n",
       "      <td>4</td>\n",
       "      <td>14</td>\n",
       "      <td>27</td>\n",
       "      <td>95</td>\n",
       "      <td>6.750000</td>\n",
       "      <td>6.785714</td>\n",
       "    </tr>\n",
       "    <tr>\n",
       "      <th>2</th>\n",
       "      <td>WELLNESS</td>\n",
       "      <td>crenezumab trial gauge whether alzheimers drug...</td>\n",
       "      <td>https://www.huffingtonpost.com/entry/crenezuma...</td>\n",
       "      <td>clock ticking united state find cure team work...</td>\n",
       "      <td>crenezumab alzheimers disease drug</td>\n",
       "      <td>9</td>\n",
       "      <td>12</td>\n",
       "      <td>67</td>\n",
       "      <td>75</td>\n",
       "      <td>7.444444</td>\n",
       "      <td>6.250000</td>\n",
       "    </tr>\n",
       "    <tr>\n",
       "      <th>3</th>\n",
       "      <td>WELLNESS</td>\n",
       "      <td>oh difference made</td>\n",
       "      <td>https://www.huffingtonpost.com/entry/meaningfu...</td>\n",
       "      <td>want busy keep trying perfect want happy focus...</td>\n",
       "      <td>meaningful life</td>\n",
       "      <td>3</td>\n",
       "      <td>10</td>\n",
       "      <td>18</td>\n",
       "      <td>64</td>\n",
       "      <td>6.000000</td>\n",
       "      <td>6.400000</td>\n",
       "    </tr>\n",
       "    <tr>\n",
       "      <th>4</th>\n",
       "      <td>WELLNESS</td>\n",
       "      <td>green superfoods</td>\n",
       "      <td>https://www.huffingtonpost.com/entry/green-sup...</td>\n",
       "      <td>first bad news soda bread corned beef beer not...</td>\n",
       "      <td>green superfoods</td>\n",
       "      <td>2</td>\n",
       "      <td>16</td>\n",
       "      <td>16</td>\n",
       "      <td>91</td>\n",
       "      <td>8.000000</td>\n",
       "      <td>5.687500</td>\n",
       "    </tr>\n",
       "  </tbody>\n",
       "</table>\n",
       "</div>"
      ],
      "text/plain": [
       "   category                                           headline  \\\n",
       "0  WELLNESS                            mile day lesson learned   \n",
       "1  WELLNESS                        talking crazy crazy helpful   \n",
       "2  WELLNESS  crenezumab trial gauge whether alzheimers drug...   \n",
       "3  WELLNESS                                 oh difference made   \n",
       "4  WELLNESS                                   green superfoods   \n",
       "\n",
       "                                               links  \\\n",
       "0  https://www.huffingtonpost.com/entry/running-l...   \n",
       "1  https://www.huffingtonpost.com/entry/talking-t...   \n",
       "2  https://www.huffingtonpost.com/entry/crenezuma...   \n",
       "3  https://www.huffingtonpost.com/entry/meaningfu...   \n",
       "4  https://www.huffingtonpost.com/entry/green-sup...   \n",
       "\n",
       "                                   short_description  \\\n",
       "0  resting part training ive confirmed sort alrea...   \n",
       "1  think talking tool coach challenge narrate exp...   \n",
       "2  clock ticking united state find cure team work...   \n",
       "3  want busy keep trying perfect want happy focus...   \n",
       "4  first bad news soda bread corned beef beer not...   \n",
       "\n",
       "                             keywords  headline_word_count  \\\n",
       "0                      running lesson                    4   \n",
       "1                       talking crazy                    4   \n",
       "2  crenezumab alzheimers disease drug                    9   \n",
       "3                     meaningful life                    3   \n",
       "4                    green superfoods                    2   \n",
       "\n",
       "   short_decription_word_count  headline_char_count  \\\n",
       "0                           33                   23   \n",
       "1                           14                   27   \n",
       "2                           12                   67   \n",
       "3                           10                   18   \n",
       "4                           16                   16   \n",
       "\n",
       "   short_description_char_count  headline_avg_word_length  \\\n",
       "0                           203                  5.750000   \n",
       "1                            95                  6.750000   \n",
       "2                            75                  7.444444   \n",
       "3                            64                  6.000000   \n",
       "4                            91                  8.000000   \n",
       "\n",
       "   short_description_avg_word_length  \n",
       "0                           6.151515  \n",
       "1                           6.785714  \n",
       "2                           6.250000  \n",
       "3                           6.400000  \n",
       "4                           5.687500  "
      ]
     },
     "execution_count": 121,
     "metadata": {},
     "output_type": "execute_result"
    }
   ],
   "source": [
    "news_df.head()"
   ]
  },
  {
   "cell_type": "markdown",
   "id": "9df4c559-f4bc-4047-82ae-de587e4ae204",
   "metadata": {
    "id": "9df4c559-f4bc-4047-82ae-de587e4ae204"
   },
   "source": [
    "#### 2. Feature extraction using techniques like TF-IDF, Word2Vec, or embeddings."
   ]
  },
  {
   "cell_type": "code",
   "execution_count": 123,
   "id": "11ea1258-274e-455d-b56a-86d6adc3535b",
   "metadata": {
    "id": "11ea1258-274e-455d-b56a-86d6adc3535b"
   },
   "outputs": [],
   "source": [
    "# Concatenating the headline, short_description and keywords columns into a single dataframe\n",
    "news_df['combined_text'] = news_df['headline'] + ' ' + news_df['short_description'] + ' ' + news_df['keywords']"
   ]
  },
  {
   "cell_type": "code",
   "execution_count": 124,
   "id": "97abf675-52c5-4e70-a43b-e0a120c88ccf",
   "metadata": {
    "id": "97abf675-52c5-4e70-a43b-e0a120c88ccf"
   },
   "outputs": [],
   "source": [
    "# Initializing TF-IDF Vectorizer\n",
    "vectorizer = TfidfVectorizer(max_features=10000, min_df=5, max_df=0.95)\n",
    "\n",
    "# Fitting and transforming combined_text column\n",
    "X_tfidf = vectorizer.fit_transform(news_df['combined_text'])"
   ]
  },
  {
   "cell_type": "code",
   "execution_count": 125,
   "id": "01376f9a-500b-4dfa-8169-d23cf4052972",
   "metadata": {},
   "outputs": [
    {
     "name": "stdout",
     "output_type": "stream",
     "text": [
      "       aaron   ab  abandon  abandoned  abbas  abbey  abbott  abby  abc  \\\n",
      "0        0.0  0.0      0.0        0.0    0.0    0.0     0.0   0.0  0.0   \n",
      "1        0.0  0.0      0.0        0.0    0.0    0.0     0.0   0.0  0.0   \n",
      "2        0.0  0.0      0.0        0.0    0.0    0.0     0.0   0.0  0.0   \n",
      "3        0.0  0.0      0.0        0.0    0.0    0.0     0.0   0.0  0.0   \n",
      "4        0.0  0.0      0.0        0.0    0.0    0.0     0.0   0.0  0.0   \n",
      "...      ...  ...      ...        ...    ...    ...     ...   ...  ...   \n",
      "49995    0.0  0.0      0.0        0.0    0.0    0.0     0.0   0.0  0.0   \n",
      "49996    0.0  0.0      0.0        0.0    0.0    0.0     0.0   0.0  0.0   \n",
      "49997    0.0  0.0      0.0        0.0    0.0    0.0     0.0   0.0  0.0   \n",
      "49998    0.0  0.0      0.0        0.0    0.0    0.0     0.0   0.0  0.0   \n",
      "49999    0.0  0.0      0.0        0.0    0.0    0.0     0.0   0.0  0.0   \n",
      "\n",
      "       abdominal  ...  zinke  zip  zoe  zombie  zone  zoo  zooey  zucchini  \\\n",
      "0            0.0  ...    0.0  0.0  0.0     0.0   0.0  0.0    0.0       0.0   \n",
      "1            0.0  ...    0.0  0.0  0.0     0.0   0.0  0.0    0.0       0.0   \n",
      "2            0.0  ...    0.0  0.0  0.0     0.0   0.0  0.0    0.0       0.0   \n",
      "3            0.0  ...    0.0  0.0  0.0     0.0   0.0  0.0    0.0       0.0   \n",
      "4            0.0  ...    0.0  0.0  0.0     0.0   0.0  0.0    0.0       0.0   \n",
      "...          ...  ...    ...  ...  ...     ...   ...  ...    ...       ...   \n",
      "49995        0.0  ...    0.0  0.0  0.0     0.0   0.0  0.0    0.0       0.0   \n",
      "49996        0.0  ...    0.0  0.0  0.0     0.0   0.0  0.0    0.0       0.0   \n",
      "49997        0.0  ...    0.0  0.0  0.0     0.0   0.0  0.0    0.0       0.0   \n",
      "49998        0.0  ...    0.0  0.0  0.0     0.0   0.0  0.0    0.0       0.0   \n",
      "49999        0.0  ...    0.0  0.0  0.0     0.0   0.0  0.0    0.0       0.0   \n",
      "\n",
      "       zuckerberg  zurich  \n",
      "0             0.0     0.0  \n",
      "1             0.0     0.0  \n",
      "2             0.0     0.0  \n",
      "3             0.0     0.0  \n",
      "4             0.0     0.0  \n",
      "...           ...     ...  \n",
      "49995         0.0     0.0  \n",
      "49996         0.0     0.0  \n",
      "49997         0.0     0.0  \n",
      "49998         0.0     0.0  \n",
      "49999         0.0     0.0  \n",
      "\n",
      "[50000 rows x 10000 columns]\n"
     ]
    }
   ],
   "source": [
    "# Converting X_tfidf dataFrame for better readability\n",
    "X_tfidf_array = pd.DataFrame(X_tfidf.toarray(), columns=vectorizer.get_feature_names_out())\n",
    "print(X_tfidf_array)"
   ]
  },
  {
   "cell_type": "markdown",
   "id": "f0ac205b-2baf-41f8-8d02-a2d140865a8c",
   "metadata": {
    "id": "f0ac205b-2baf-41f8-8d02-a2d140865a8c"
   },
   "source": [
    "#### 3. Perform exploratory data analysis (EDA) to understand the distribution of different categories."
   ]
  },
  {
   "cell_type": "code",
   "execution_count": 127,
   "id": "9293e098-61e0-41cc-8af7-0c165e366a91",
   "metadata": {
    "colab": {
     "base_uri": "https://localhost:8080/"
    },
    "id": "9293e098-61e0-41cc-8af7-0c165e366a91",
    "outputId": "3f13eff3-2f19-4e37-f325-e1650c327179"
   },
   "outputs": [
    {
     "name": "stdout",
     "output_type": "stream",
     "text": [
      "category\n",
      "WELLNESS          5000\n",
      "POLITICS          5000\n",
      "ENTERTAINMENT     5000\n",
      "TRAVEL            5000\n",
      "STYLE & BEAUTY    5000\n",
      "PARENTING         5000\n",
      "FOOD & DRINK      5000\n",
      "WORLD NEWS        5000\n",
      "BUSINESS          5000\n",
      "SPORTS            5000\n",
      "Name: count, dtype: int64\n"
     ]
    }
   ],
   "source": [
    "# Checking if the dataset is balanced or not\n",
    "category_count = news_df['category'].value_counts()\n",
    "\n",
    "# Printing the results\n",
    "print(category_count)"
   ]
  },
  {
   "cell_type": "markdown",
   "id": "49f142a5-9b7b-47f2-bb40-b0c1fd5ce393",
   "metadata": {
    "id": "49f142a5-9b7b-47f2-bb40-b0c1fd5ce393"
   },
   "source": [
    "#### Observation:\n",
    "Dataset is a balanced dataset as all 10 categories have equal number of records in the dataset."
   ]
  },
  {
   "cell_type": "code",
   "execution_count": 129,
   "id": "935e29bc-b676-4cfe-aab1-94ff4541941d",
   "metadata": {
    "colab": {
     "base_uri": "https://localhost:8080/",
     "height": 607
    },
    "id": "935e29bc-b676-4cfe-aab1-94ff4541941d",
    "outputId": "27ab783c-4729-41d9-dd02-79c848206f1a"
   },
   "outputs": [
    {
     "data": {
      "image/png": "[encoded data removed]",
      "text/plain": [
       "<Figure size 1000x600 with 1 Axes>"
      ]
     },
     "metadata": {},
     "output_type": "display_data"
    }
   ],
   "source": [
    "# Displaying bar plot for category vs headline_word_count feature\n",
    "plt.figure(figsize=(10, 6))\n",
    "sns.barplot(x='category', y='headline_word_count', data=news_df)\n",
    "plt.title('Category vs Headline Word Count')\n",
    "plt.xlabel('Category')\n",
    "plt.ylabel('Headline Word Count')\n",
    "\n",
    "# Rotate x-axis labels for better readability\n",
    "plt.xticks(rotation=45, ha='right')\n",
    "\n",
    "# Adjust layout to prevent overlap\n",
    "plt.tight_layout()\n",
    "\n",
    "plt.show()"
   ]
  },
  {
   "cell_type": "markdown",
   "id": "0db6ad16-753b-4a50-89d3-aefb6b2f4fa3",
   "metadata": {
    "id": "0db6ad16-753b-4a50-89d3-aefb6b2f4fa3"
   },
   "source": [
    "#### Observation:\n",
    "1. Entertainment category has highest value for headline word count feature.\n",
    "2. Style & Beauty category and Sports category have next highest value for headline word count feature.\n",
    "3. Wellness category has lowest value for headline word count feature.\n",
    "4. Travel category, Parenting category and Food and Drink category have next lowest value for headline word count feature."
   ]
  },
  {
   "cell_type": "code",
   "execution_count": 131,
   "id": "28099e18-ebb8-4b62-bfd7-832a64160f16",
   "metadata": {},
   "outputs": [
    {
     "data": {
      "image/png": "[encoded data removed]",
      "text/plain": [
       "<Figure size 1000x600 with 1 Axes>"
      ]
     },
     "metadata": {},
     "output_type": "display_data"
    }
   ],
   "source": [
    "# Displaying bar plot for category vs short_decription_word_count feature\n",
    "plt.figure(figsize=(10, 6))\n",
    "sns.barplot(x='category', y='short_decription_word_count', data=news_df)\n",
    "plt.title('Category vs Short Decription Word Count')\n",
    "plt.xlabel('Category')\n",
    "plt.ylabel('Short Decription Word Count')\n",
    "\n",
    "# Rotate x-axis labels for better readability\n",
    "plt.xticks(rotation=45, ha='right')\n",
    "\n",
    "# Adjust layout to prevent overlap\n",
    "plt.tight_layout()\n",
    "\n",
    "plt.show()"
   ]
  },
  {
   "cell_type": "markdown",
   "id": "6a1dd2ad-5471-4368-a255-8108f1c194d9",
   "metadata": {
    "id": "0db6ad16-753b-4a50-89d3-aefb6b2f4fa3"
   },
   "source": [
    "#### Observation:\n",
    "1. Wellness category has the highest value for short description word count feature.\n",
    "2. Travel category and Parent category have next highest value for short description word count feature.\n",
    "3. Sports category has lowest value for short description word count feature.\n",
    "4. Entertainment category and Food and Drink category have next lowest value for short description word count feature."
   ]
  },
  {
   "cell_type": "markdown",
   "id": "33bee06f-ce58-40ce-ad46-d179a2d50b24",
   "metadata": {
    "id": "33bee06f-ce58-40ce-ad46-d179a2d50b24"
   },
   "source": [
    "# 3. Model Development and Training"
   ]
  },
  {
   "cell_type": "markdown",
   "id": "78118438-ef03-4665-bd0f-ed0141729dbe",
   "metadata": {
    "id": "78118438-ef03-4665-bd0f-ed0141729dbe"
   },
   "source": [
    "#### 3a. Build classification models using algorithms like Logistic Regression, Naive Bayes, Support Vector Machines (SVM). Train the models on the preprocessed text data."
   ]
  },
  {
   "cell_type": "code",
   "execution_count": 135,
   "id": "1b252124-694c-425c-80c4-b617c01eb11c",
   "metadata": {},
   "outputs": [
    {
     "data": {
      "text/html": [
       "<div>\n",
       "<style scoped>\n",
       "    .dataframe tbody tr th:only-of-type {\n",
       "        vertical-align: middle;\n",
       "    }\n",
       "\n",
       "    .dataframe tbody tr th {\n",
       "        vertical-align: top;\n",
       "    }\n",
       "\n",
       "    .dataframe thead th {\n",
       "        text-align: right;\n",
       "    }\n",
       "</style>\n",
       "<table border=\"1\" class=\"dataframe\">\n",
       "  <thead>\n",
       "    <tr style=\"text-align: right;\">\n",
       "      <th></th>\n",
       "      <th>category</th>\n",
       "      <th>headline</th>\n",
       "      <th>links</th>\n",
       "      <th>short_description</th>\n",
       "      <th>keywords</th>\n",
       "      <th>headline_word_count</th>\n",
       "      <th>short_decription_word_count</th>\n",
       "      <th>headline_char_count</th>\n",
       "      <th>short_description_char_count</th>\n",
       "      <th>headline_avg_word_length</th>\n",
       "      <th>short_description_avg_word_length</th>\n",
       "      <th>combined_text</th>\n",
       "    </tr>\n",
       "  </thead>\n",
       "  <tbody>\n",
       "    <tr>\n",
       "      <th>0</th>\n",
       "      <td>8</td>\n",
       "      <td>mile day lesson learned</td>\n",
       "      <td>https://www.huffingtonpost.com/entry/running-l...</td>\n",
       "      <td>resting part training ive confirmed sort alrea...</td>\n",
       "      <td>running lesson</td>\n",
       "      <td>4</td>\n",
       "      <td>33</td>\n",
       "      <td>23</td>\n",
       "      <td>203</td>\n",
       "      <td>5.750000</td>\n",
       "      <td>6.151515</td>\n",
       "      <td>mile day lesson learned resting part training ...</td>\n",
       "    </tr>\n",
       "    <tr>\n",
       "      <th>1</th>\n",
       "      <td>8</td>\n",
       "      <td>talking crazy crazy helpful</td>\n",
       "      <td>https://www.huffingtonpost.com/entry/talking-t...</td>\n",
       "      <td>think talking tool coach challenge narrate exp...</td>\n",
       "      <td>talking crazy</td>\n",
       "      <td>4</td>\n",
       "      <td>14</td>\n",
       "      <td>27</td>\n",
       "      <td>95</td>\n",
       "      <td>6.750000</td>\n",
       "      <td>6.785714</td>\n",
       "      <td>talking crazy crazy helpful think talking tool...</td>\n",
       "    </tr>\n",
       "    <tr>\n",
       "      <th>2</th>\n",
       "      <td>8</td>\n",
       "      <td>crenezumab trial gauge whether alzheimers drug...</td>\n",
       "      <td>https://www.huffingtonpost.com/entry/crenezuma...</td>\n",
       "      <td>clock ticking united state find cure team work...</td>\n",
       "      <td>crenezumab alzheimers disease drug</td>\n",
       "      <td>9</td>\n",
       "      <td>12</td>\n",
       "      <td>67</td>\n",
       "      <td>75</td>\n",
       "      <td>7.444444</td>\n",
       "      <td>6.250000</td>\n",
       "      <td>crenezumab trial gauge whether alzheimers drug...</td>\n",
       "    </tr>\n",
       "    <tr>\n",
       "      <th>3</th>\n",
       "      <td>8</td>\n",
       "      <td>oh difference made</td>\n",
       "      <td>https://www.huffingtonpost.com/entry/meaningfu...</td>\n",
       "      <td>want busy keep trying perfect want happy focus...</td>\n",
       "      <td>meaningful life</td>\n",
       "      <td>3</td>\n",
       "      <td>10</td>\n",
       "      <td>18</td>\n",
       "      <td>64</td>\n",
       "      <td>6.000000</td>\n",
       "      <td>6.400000</td>\n",
       "      <td>oh difference made want busy keep trying perfe...</td>\n",
       "    </tr>\n",
       "    <tr>\n",
       "      <th>4</th>\n",
       "      <td>8</td>\n",
       "      <td>green superfoods</td>\n",
       "      <td>https://www.huffingtonpost.com/entry/green-sup...</td>\n",
       "      <td>first bad news soda bread corned beef beer not...</td>\n",
       "      <td>green superfoods</td>\n",
       "      <td>2</td>\n",
       "      <td>16</td>\n",
       "      <td>16</td>\n",
       "      <td>91</td>\n",
       "      <td>8.000000</td>\n",
       "      <td>5.687500</td>\n",
       "      <td>green superfoods first bad news soda bread cor...</td>\n",
       "    </tr>\n",
       "  </tbody>\n",
       "</table>\n",
       "</div>"
      ],
      "text/plain": [
       "   category                                           headline  \\\n",
       "0         8                            mile day lesson learned   \n",
       "1         8                        talking crazy crazy helpful   \n",
       "2         8  crenezumab trial gauge whether alzheimers drug...   \n",
       "3         8                                 oh difference made   \n",
       "4         8                                   green superfoods   \n",
       "\n",
       "                                               links  \\\n",
       "0  https://www.huffingtonpost.com/entry/running-l...   \n",
       "1  https://www.huffingtonpost.com/entry/talking-t...   \n",
       "2  https://www.huffingtonpost.com/entry/crenezuma...   \n",
       "3  https://www.huffingtonpost.com/entry/meaningfu...   \n",
       "4  https://www.huffingtonpost.com/entry/green-sup...   \n",
       "\n",
       "                                   short_description  \\\n",
       "0  resting part training ive confirmed sort alrea...   \n",
       "1  think talking tool coach challenge narrate exp...   \n",
       "2  clock ticking united state find cure team work...   \n",
       "3  want busy keep trying perfect want happy focus...   \n",
       "4  first bad news soda bread corned beef beer not...   \n",
       "\n",
       "                             keywords  headline_word_count  \\\n",
       "0                      running lesson                    4   \n",
       "1                       talking crazy                    4   \n",
       "2  crenezumab alzheimers disease drug                    9   \n",
       "3                     meaningful life                    3   \n",
       "4                    green superfoods                    2   \n",
       "\n",
       "   short_decription_word_count  headline_char_count  \\\n",
       "0                           33                   23   \n",
       "1                           14                   27   \n",
       "2                           12                   67   \n",
       "3                           10                   18   \n",
       "4                           16                   16   \n",
       "\n",
       "   short_description_char_count  headline_avg_word_length  \\\n",
       "0                           203                  5.750000   \n",
       "1                            95                  6.750000   \n",
       "2                            75                  7.444444   \n",
       "3                            64                  6.000000   \n",
       "4                            91                  8.000000   \n",
       "\n",
       "   short_description_avg_word_length  \\\n",
       "0                           6.151515   \n",
       "1                           6.785714   \n",
       "2                           6.250000   \n",
       "3                           6.400000   \n",
       "4                           5.687500   \n",
       "\n",
       "                                       combined_text  \n",
       "0  mile day lesson learned resting part training ...  \n",
       "1  talking crazy crazy helpful think talking tool...  \n",
       "2  crenezumab trial gauge whether alzheimers drug...  \n",
       "3  oh difference made want busy keep trying perfe...  \n",
       "4  green superfoods first bad news soda bread cor...  "
      ]
     },
     "execution_count": 135,
     "metadata": {},
     "output_type": "execute_result"
    }
   ],
   "source": [
    "# Initializing LabelEncoder\n",
    "label_encoder = LabelEncoder()\n",
    "\n",
    "# Fitting and transforming the sentiment column\n",
    "news_df['category'] = label_encoder.fit_transform(news_df['category'])\n",
    "\n",
    "news_df.head()"
   ]
  },
  {
   "cell_type": "code",
   "execution_count": 136,
   "id": "f3670de4-9c26-4102-b9db-5ac10f5059bc",
   "metadata": {
    "id": "f3670de4-9c26-4102-b9db-5ac10f5059bc"
   },
   "outputs": [],
   "source": [
    "# Extracting numerical features and target variable\n",
    "numerical_features = news_df[['headline_word_count','short_decription_word_count','headline_char_count','short_description_char_count',\n",
    "                              'headline_avg_word_length','short_description_avg_word_length']].values\n",
    "y = news_df['category'].values\n",
    "\n",
    "# Combine TF-IDF features with numerical features\n",
    "X_final = hstack([X_tfidf, numerical_features])\n"
   ]
  },
  {
   "cell_type": "code",
   "execution_count": 137,
   "id": "fba9eee2-5b76-4485-a503-45cce2bfc015",
   "metadata": {
    "id": "fba9eee2-5b76-4485-a503-45cce2bfc015"
   },
   "outputs": [],
   "source": [
    "# Splitting Dataset into Train Set and Test Set: (80% train, 20% test)\n",
    "X_train, X_test, y_train, y_test = train_test_split(X_final, y, test_size=0.2, random_state=42)"
   ]
  },
  {
   "cell_type": "code",
   "execution_count": 138,
   "id": "34e74857-1271-4e52-aabc-51666f9e0fbb",
   "metadata": {
    "id": "34e74857-1271-4e52-aabc-51666f9e0fbb"
   },
   "outputs": [
    {
     "name": "stdout",
     "output_type": "stream",
     "text": [
      "(40000, 10006)\n",
      "(10000, 10006)\n"
     ]
    }
   ],
   "source": [
    "print(X_train.shape)\n",
    "print(X_test.shape)"
   ]
  },
  {
   "cell_type": "code",
   "execution_count": 139,
   "id": "88d9c61d-ccb7-4d9a-adae-a39a9c2e4f91",
   "metadata": {
    "id": "88d9c61d-ccb7-4d9a-adae-a39a9c2e4f91"
   },
   "outputs": [
    {
     "name": "stdout",
     "output_type": "stream",
     "text": [
      "[[0. 0. 0. 0. 0. 0. 0. 0. 0. 0.]\n",
      " [0. 0. 0. 0. 0. 0. 0. 0. 0. 0.]\n",
      " [0. 0. 0. 0. 0. 0. 0. 0. 0. 0.]\n",
      " [0. 0. 0. 0. 0. 0. 0. 0. 0. 0.]\n",
      " [0. 0. 0. 0. 0. 0. 0. 0. 0. 0.]]\n"
     ]
    }
   ],
   "source": [
    "# Displaying 5 rows with 30 columns from X_train\n",
    "X_train_display = X_train[:5, :10].toarray()\n",
    "print(X_train_display)"
   ]
  },
  {
   "cell_type": "code",
   "execution_count": 140,
   "id": "f37fa978-d368-46c9-b304-c23b01036041",
   "metadata": {
    "id": "f37fa978-d368-46c9-b304-c23b01036041"
   },
   "outputs": [
    {
     "name": "stdout",
     "output_type": "stream",
     "text": [
      "[[0. 0. 0. 0. 0. 0. 0. 0. 0. 0.]\n",
      " [0. 0. 0. 0. 0. 0. 0. 0. 0. 0.]\n",
      " [0. 0. 0. 0. 0. 0. 0. 0. 0. 0.]\n",
      " [0. 0. 0. 0. 0. 0. 0. 0. 0. 0.]\n",
      " [0. 0. 0. 0. 0. 0. 0. 0. 0. 0.]]\n"
     ]
    }
   ],
   "source": [
    "# Displaying 5 rows with 30 columns from X_test\n",
    "X_test_display = X_test[:5, :10].toarray()\n",
    "print(X_test_display)"
   ]
  },
  {
   "cell_type": "markdown",
   "id": "7be59cb3-d6b1-4261-8f00-5b41979ddc5f",
   "metadata": {
    "id": "7be59cb3-d6b1-4261-8f00-5b41979ddc5f"
   },
   "source": [
    "# 1. Logistic Regression"
   ]
  },
  {
   "cell_type": "code",
   "execution_count": 142,
   "id": "83cf5053-8d3b-4c52-8b5b-e5a680d16d6a",
   "metadata": {
    "id": "83cf5053-8d3b-4c52-8b5b-e5a680d16d6a"
   },
   "outputs": [
    {
     "name": "stderr",
     "output_type": "stream",
     "text": [
      "C:\\Users\\meena\\anaconda3\\Lib\\site-packages\\sklearn\\linear_model\\_logistic.py:469: ConvergenceWarning: lbfgs failed to converge (status=1):\n",
      "STOP: TOTAL NO. of ITERATIONS REACHED LIMIT.\n",
      "\n",
      "Increase the number of iterations (max_iter) or scale the data as shown in:\n",
      "    https://scikit-learn.org/stable/modules/preprocessing.html\n",
      "Please also refer to the documentation for alternative solver options:\n",
      "    https://scikit-learn.org/stable/modules/linear_model.html#logistic-regression\n",
      "  n_iter_i = _check_optimize_result(\n"
     ]
    },
    {
     "data": {
      "text/html": [
       "<style>#sk-container-id-1 {\n",
       "  /* Definition of color scheme common for light and dark mode */\n",
       "  --sklearn-color-text: black;\n",
       "  --sklearn-color-line: gray;\n",
       "  /* Definition of color scheme for unfitted estimators */\n",
       "  --sklearn-color-unfitted-level-0: #fff5e6;\n",
       "  --sklearn-color-unfitted-level-1: #f6e4d2;\n",
       "  --sklearn-color-unfitted-level-2: #ffe0b3;\n",
       "  --sklearn-color-unfitted-level-3: chocolate;\n",
       "  /* Definition of color scheme for fitted estimators */\n",
       "  --sklearn-color-fitted-level-0: #f0f8ff;\n",
       "  --sklearn-color-fitted-level-1: #d4ebff;\n",
       "  --sklearn-color-fitted-level-2: #b3dbfd;\n",
       "  --sklearn-color-fitted-level-3: cornflowerblue;\n",
       "\n",
       "  /* Specific color for light theme */\n",
       "  --sklearn-color-text-on-default-background: var(--sg-text-color, var(--theme-code-foreground, var(--jp-content-font-color1, black)));\n",
       "  --sklearn-color-background: var(--sg-background-color, var(--theme-background, var(--jp-layout-color0, white)));\n",
       "  --sklearn-color-border-box: var(--sg-text-color, var(--theme-code-foreground, var(--jp-content-font-color1, black)));\n",
       "  --sklearn-color-icon: #696969;\n",
       "\n",
       "  @media (prefers-color-scheme: dark) {\n",
       "    /* Redefinition of color scheme for dark theme */\n",
       "    --sklearn-color-text-on-default-background: var(--sg-text-color, var(--theme-code-foreground, var(--jp-content-font-color1, white)));\n",
       "    --sklearn-color-background: var(--sg-background-color, var(--theme-background, var(--jp-layout-color0, #111)));\n",
       "    --sklearn-color-border-box: var(--sg-text-color, var(--theme-code-foreground, var(--jp-content-font-color1, white)));\n",
       "    --sklearn-color-icon: #878787;\n",
       "  }\n",
       "}\n",
       "\n",
       "#sk-container-id-1 {\n",
       "  color: var(--sklearn-color-text);\n",
       "}\n",
       "\n",
       "#sk-container-id-1 pre {\n",
       "  padding: 0;\n",
       "}\n",
       "\n",
       "#sk-container-id-1 input.sk-hidden--visually {\n",
       "  border: 0;\n",
       "  clip: rect(1px 1px 1px 1px);\n",
       "  clip: rect(1px, 1px, 1px, 1px);\n",
       "  height: 1px;\n",
       "  margin: -1px;\n",
       "  overflow: hidden;\n",
       "  padding: 0;\n",
       "  position: absolute;\n",
       "  width: 1px;\n",
       "}\n",
       "\n",
       "#sk-container-id-1 div.sk-dashed-wrapped {\n",
       "  border: 1px dashed var(--sklearn-color-line);\n",
       "  margin: 0 0.4em 0.5em 0.4em;\n",
       "  box-sizing: border-box;\n",
       "  padding-bottom: 0.4em;\n",
       "  background-color: var(--sklearn-color-background);\n",
       "}\n",
       "\n",
       "#sk-container-id-1 div.sk-container {\n",
       "  /* jupyter's `normalize.less` sets `[hidden] { display: none; }`\n",
       "     but bootstrap.min.css set `[hidden] { display: none !important; }`\n",
       "     so we also need the `!important` here to be able to override the\n",
       "     default hidden behavior on the sphinx rendered scikit-learn.org.\n",
       "     See: https://github.com/scikit-learn/scikit-learn/issues/21755 */\n",
       "  display: inline-block !important;\n",
       "  position: relative;\n",
       "}\n",
       "\n",
       "#sk-container-id-1 div.sk-text-repr-fallback {\n",
       "  display: none;\n",
       "}\n",
       "\n",
       "div.sk-parallel-item,\n",
       "div.sk-serial,\n",
       "div.sk-item {\n",
       "  /* draw centered vertical line to link estimators */\n",
       "  background-image: linear-gradient(var(--sklearn-color-text-on-default-background), var(--sklearn-color-text-on-default-background));\n",
       "  background-size: 2px 100%;\n",
       "  background-repeat: no-repeat;\n",
       "  background-position: center center;\n",
       "}\n",
       "\n",
       "/* Parallel-specific style estimator block */\n",
       "\n",
       "#sk-container-id-1 div.sk-parallel-item::after {\n",
       "  content: \"\";\n",
       "  width: 100%;\n",
       "  border-bottom: 2px solid var(--sklearn-color-text-on-default-background);\n",
       "  flex-grow: 1;\n",
       "}\n",
       "\n",
       "#sk-container-id-1 div.sk-parallel {\n",
       "  display: flex;\n",
       "  align-items: stretch;\n",
       "  justify-content: center;\n",
       "  background-color: var(--sklearn-color-background);\n",
       "  position: relative;\n",
       "}\n",
       "\n",
       "#sk-container-id-1 div.sk-parallel-item {\n",
       "  display: flex;\n",
       "  flex-direction: column;\n",
       "}\n",
       "\n",
       "#sk-container-id-1 div.sk-parallel-item:first-child::after {\n",
       "  align-self: flex-end;\n",
       "  width: 50%;\n",
       "}\n",
       "\n",
       "#sk-container-id-1 div.sk-parallel-item:last-child::after {\n",
       "  align-self: flex-start;\n",
       "  width: 50%;\n",
       "}\n",
       "\n",
       "#sk-container-id-1 div.sk-parallel-item:only-child::after {\n",
       "  width: 0;\n",
       "}\n",
       "\n",
       "/* Serial-specific style estimator block */\n",
       "\n",
       "#sk-container-id-1 div.sk-serial {\n",
       "  display: flex;\n",
       "  flex-direction: column;\n",
       "  align-items: center;\n",
       "  background-color: var(--sklearn-color-background);\n",
       "  padding-right: 1em;\n",
       "  padding-left: 1em;\n",
       "}\n",
       "\n",
       "\n",
       "/* Toggleable style: style used for estimator/Pipeline/ColumnTransformer box that is\n",
       "clickable and can be expanded/collapsed.\n",
       "- Pipeline and ColumnTransformer use this feature and define the default style\n",
       "- Estimators will overwrite some part of the style using the `sk-estimator` class\n",
       "*/\n",
       "\n",
       "/* Pipeline and ColumnTransformer style (default) */\n",
       "\n",
       "#sk-container-id-1 div.sk-toggleable {\n",
       "  /* Default theme specific background. It is overwritten whether we have a\n",
       "  specific estimator or a Pipeline/ColumnTransformer */\n",
       "  background-color: var(--sklearn-color-background);\n",
       "}\n",
       "\n",
       "/* Toggleable label */\n",
       "#sk-container-id-1 label.sk-toggleable__label {\n",
       "  cursor: pointer;\n",
       "  display: block;\n",
       "  width: 100%;\n",
       "  margin-bottom: 0;\n",
       "  padding: 0.5em;\n",
       "  box-sizing: border-box;\n",
       "  text-align: center;\n",
       "}\n",
       "\n",
       "#sk-container-id-1 label.sk-toggleable__label-arrow:before {\n",
       "  /* Arrow on the left of the label */\n",
       "  content: \"▸\";\n",
       "  float: left;\n",
       "  margin-right: 0.25em;\n",
       "  color: var(--sklearn-color-icon);\n",
       "}\n",
       "\n",
       "#sk-container-id-1 label.sk-toggleable__label-arrow:hover:before {\n",
       "  color: var(--sklearn-color-text);\n",
       "}\n",
       "\n",
       "/* Toggleable content - dropdown */\n",
       "\n",
       "#sk-container-id-1 div.sk-toggleable__content {\n",
       "  max-height: 0;\n",
       "  max-width: 0;\n",
       "  overflow: hidden;\n",
       "  text-align: left;\n",
       "  /* unfitted */\n",
       "  background-color: var(--sklearn-color-unfitted-level-0);\n",
       "}\n",
       "\n",
       "#sk-container-id-1 div.sk-toggleable__content.fitted {\n",
       "  /* fitted */\n",
       "  background-color: var(--sklearn-color-fitted-level-0);\n",
       "}\n",
       "\n",
       "#sk-container-id-1 div.sk-toggleable__content pre {\n",
       "  margin: 0.2em;\n",
       "  border-radius: 0.25em;\n",
       "  color: var(--sklearn-color-text);\n",
       "  /* unfitted */\n",
       "  background-color: var(--sklearn-color-unfitted-level-0);\n",
       "}\n",
       "\n",
       "#sk-container-id-1 div.sk-toggleable__content.fitted pre {\n",
       "  /* unfitted */\n",
       "  background-color: var(--sklearn-color-fitted-level-0);\n",
       "}\n",
       "\n",
       "#sk-container-id-1 input.sk-toggleable__control:checked~div.sk-toggleable__content {\n",
       "  /* Expand drop-down */\n",
       "  max-height: 200px;\n",
       "  max-width: 100%;\n",
       "  overflow: auto;\n",
       "}\n",
       "\n",
       "#sk-container-id-1 input.sk-toggleable__control:checked~label.sk-toggleable__label-arrow:before {\n",
       "  content: \"▾\";\n",
       "}\n",
       "\n",
       "/* Pipeline/ColumnTransformer-specific style */\n",
       "\n",
       "#sk-container-id-1 div.sk-label input.sk-toggleable__control:checked~label.sk-toggleable__label {\n",
       "  color: var(--sklearn-color-text);\n",
       "  background-color: var(--sklearn-color-unfitted-level-2);\n",
       "}\n",
       "\n",
       "#sk-container-id-1 div.sk-label.fitted input.sk-toggleable__control:checked~label.sk-toggleable__label {\n",
       "  background-color: var(--sklearn-color-fitted-level-2);\n",
       "}\n",
       "\n",
       "/* Estimator-specific style */\n",
       "\n",
       "/* Colorize estimator box */\n",
       "#sk-container-id-1 div.sk-estimator input.sk-toggleable__control:checked~label.sk-toggleable__label {\n",
       "  /* unfitted */\n",
       "  background-color: var(--sklearn-color-unfitted-level-2);\n",
       "}\n",
       "\n",
       "#sk-container-id-1 div.sk-estimator.fitted input.sk-toggleable__control:checked~label.sk-toggleable__label {\n",
       "  /* fitted */\n",
       "  background-color: var(--sklearn-color-fitted-level-2);\n",
       "}\n",
       "\n",
       "#sk-container-id-1 div.sk-label label.sk-toggleable__label,\n",
       "#sk-container-id-1 div.sk-label label {\n",
       "  /* The background is the default theme color */\n",
       "  color: var(--sklearn-color-text-on-default-background);\n",
       "}\n",
       "\n",
       "/* On hover, darken the color of the background */\n",
       "#sk-container-id-1 div.sk-label:hover label.sk-toggleable__label {\n",
       "  color: var(--sklearn-color-text);\n",
       "  background-color: var(--sklearn-color-unfitted-level-2);\n",
       "}\n",
       "\n",
       "/* Label box, darken color on hover, fitted */\n",
       "#sk-container-id-1 div.sk-label.fitted:hover label.sk-toggleable__label.fitted {\n",
       "  color: var(--sklearn-color-text);\n",
       "  background-color: var(--sklearn-color-fitted-level-2);\n",
       "}\n",
       "\n",
       "/* Estimator label */\n",
       "\n",
       "#sk-container-id-1 div.sk-label label {\n",
       "  font-family: monospace;\n",
       "  font-weight: bold;\n",
       "  display: inline-block;\n",
       "  line-height: 1.2em;\n",
       "}\n",
       "\n",
       "#sk-container-id-1 div.sk-label-container {\n",
       "  text-align: center;\n",
       "}\n",
       "\n",
       "/* Estimator-specific */\n",
       "#sk-container-id-1 div.sk-estimator {\n",
       "  font-family: monospace;\n",
       "  border: 1px dotted var(--sklearn-color-border-box);\n",
       "  border-radius: 0.25em;\n",
       "  box-sizing: border-box;\n",
       "  margin-bottom: 0.5em;\n",
       "  /* unfitted */\n",
       "  background-color: var(--sklearn-color-unfitted-level-0);\n",
       "}\n",
       "\n",
       "#sk-container-id-1 div.sk-estimator.fitted {\n",
       "  /* fitted */\n",
       "  background-color: var(--sklearn-color-fitted-level-0);\n",
       "}\n",
       "\n",
       "/* on hover */\n",
       "#sk-container-id-1 div.sk-estimator:hover {\n",
       "  /* unfitted */\n",
       "  background-color: var(--sklearn-color-unfitted-level-2);\n",
       "}\n",
       "\n",
       "#sk-container-id-1 div.sk-estimator.fitted:hover {\n",
       "  /* fitted */\n",
       "  background-color: var(--sklearn-color-fitted-level-2);\n",
       "}\n",
       "\n",
       "/* Specification for estimator info (e.g. \"i\" and \"?\") */\n",
       "\n",
       "/* Common style for \"i\" and \"?\" */\n",
       "\n",
       ".sk-estimator-doc-link,\n",
       "a:link.sk-estimator-doc-link,\n",
       "a:visited.sk-estimator-doc-link {\n",
       "  float: right;\n",
       "  font-size: smaller;\n",
       "  line-height: 1em;\n",
       "  font-family: monospace;\n",
       "  background-color: var(--sklearn-color-background);\n",
       "  border-radius: 1em;\n",
       "  height: 1em;\n",
       "  width: 1em;\n",
       "  text-decoration: none !important;\n",
       "  margin-left: 1ex;\n",
       "  /* unfitted */\n",
       "  border: var(--sklearn-color-unfitted-level-1) 1pt solid;\n",
       "  color: var(--sklearn-color-unfitted-level-1);\n",
       "}\n",
       "\n",
       ".sk-estimator-doc-link.fitted,\n",
       "a:link.sk-estimator-doc-link.fitted,\n",
       "a:visited.sk-estimator-doc-link.fitted {\n",
       "  /* fitted */\n",
       "  border: var(--sklearn-color-fitted-level-1) 1pt solid;\n",
       "  color: var(--sklearn-color-fitted-level-1);\n",
       "}\n",
       "\n",
       "/* On hover */\n",
       "div.sk-estimator:hover .sk-estimator-doc-link:hover,\n",
       ".sk-estimator-doc-link:hover,\n",
       "div.sk-label-container:hover .sk-estimator-doc-link:hover,\n",
       ".sk-estimator-doc-link:hover {\n",
       "  /* unfitted */\n",
       "  background-color: var(--sklearn-color-unfitted-level-3);\n",
       "  color: var(--sklearn-color-background);\n",
       "  text-decoration: none;\n",
       "}\n",
       "\n",
       "div.sk-estimator.fitted:hover .sk-estimator-doc-link.fitted:hover,\n",
       ".sk-estimator-doc-link.fitted:hover,\n",
       "div.sk-label-container:hover .sk-estimator-doc-link.fitted:hover,\n",
       ".sk-estimator-doc-link.fitted:hover {\n",
       "  /* fitted */\n",
       "  background-color: var(--sklearn-color-fitted-level-3);\n",
       "  color: var(--sklearn-color-background);\n",
       "  text-decoration: none;\n",
       "}\n",
       "\n",
       "/* Span, style for the box shown on hovering the info icon */\n",
       ".sk-estimator-doc-link span {\n",
       "  display: none;\n",
       "  z-index: 9999;\n",
       "  position: relative;\n",
       "  font-weight: normal;\n",
       "  right: .2ex;\n",
       "  padding: .5ex;\n",
       "  margin: .5ex;\n",
       "  width: min-content;\n",
       "  min-width: 20ex;\n",
       "  max-width: 50ex;\n",
       "  color: var(--sklearn-color-text);\n",
       "  box-shadow: 2pt 2pt 4pt #999;\n",
       "  /* unfitted */\n",
       "  background: var(--sklearn-color-unfitted-level-0);\n",
       "  border: .5pt solid var(--sklearn-color-unfitted-level-3);\n",
       "}\n",
       "\n",
       ".sk-estimator-doc-link.fitted span {\n",
       "  /* fitted */\n",
       "  background: var(--sklearn-color-fitted-level-0);\n",
       "  border: var(--sklearn-color-fitted-level-3);\n",
       "}\n",
       "\n",
       ".sk-estimator-doc-link:hover span {\n",
       "  display: block;\n",
       "}\n",
       "\n",
       "/* \"?\"-specific style due to the `<a>` HTML tag */\n",
       "\n",
       "#sk-container-id-1 a.estimator_doc_link {\n",
       "  float: right;\n",
       "  font-size: 1rem;\n",
       "  line-height: 1em;\n",
       "  font-family: monospace;\n",
       "  background-color: var(--sklearn-color-background);\n",
       "  border-radius: 1rem;\n",
       "  height: 1rem;\n",
       "  width: 1rem;\n",
       "  text-decoration: none;\n",
       "  /* unfitted */\n",
       "  color: var(--sklearn-color-unfitted-level-1);\n",
       "  border: var(--sklearn-color-unfitted-level-1) 1pt solid;\n",
       "}\n",
       "\n",
       "#sk-container-id-1 a.estimator_doc_link.fitted {\n",
       "  /* fitted */\n",
       "  border: var(--sklearn-color-fitted-level-1) 1pt solid;\n",
       "  color: var(--sklearn-color-fitted-level-1);\n",
       "}\n",
       "\n",
       "/* On hover */\n",
       "#sk-container-id-1 a.estimator_doc_link:hover {\n",
       "  /* unfitted */\n",
       "  background-color: var(--sklearn-color-unfitted-level-3);\n",
       "  color: var(--sklearn-color-background);\n",
       "  text-decoration: none;\n",
       "}\n",
       "\n",
       "#sk-container-id-1 a.estimator_doc_link.fitted:hover {\n",
       "  /* fitted */\n",
       "  background-color: var(--sklearn-color-fitted-level-3);\n",
       "}\n",
       "</style><div id=\"sk-container-id-1\" class=\"sk-top-container\"><div class=\"sk-text-repr-fallback\"><pre>LogisticRegression()</pre><b>In a Jupyter environment, please rerun this cell to show the HTML representation or trust the notebook. <br />On GitHub, the HTML representation is unable to render, please try loading this page with nbviewer.org.</b></div><div class=\"sk-container\" hidden><div class=\"sk-item\"><div class=\"sk-estimator fitted sk-toggleable\"><input class=\"sk-toggleable__control sk-hidden--visually\" id=\"sk-estimator-id-1\" type=\"checkbox\" checked><label for=\"sk-estimator-id-1\" class=\"sk-toggleable__label fitted sk-toggleable__label-arrow fitted\">&nbsp;&nbsp;LogisticRegression<a class=\"sk-estimator-doc-link fitted\" rel=\"noreferrer\" target=\"_blank\" href=\"https://scikit-learn.org/1.5/modules/generated/sklearn.linear_model.LogisticRegression.html\">?<span>Documentation for LogisticRegression</span></a><span class=\"sk-estimator-doc-link fitted\">i<span>Fitted</span></span></label><div class=\"sk-toggleable__content fitted\"><pre>LogisticRegression()</pre></div> </div></div></div></div>"
      ],
      "text/plain": [
       "LogisticRegression()"
      ]
     },
     "execution_count": 142,
     "metadata": {},
     "output_type": "execute_result"
    }
   ],
   "source": [
    "# Building Logistic Regression Model\n",
    "logreg_model = LogisticRegression()\n",
    "logreg_model.fit(X_train, y_train)"
   ]
  },
  {
   "cell_type": "code",
   "execution_count": 143,
   "id": "4e663490-c5a2-4e10-8fea-c309ae0c8c36",
   "metadata": {
    "id": "4e663490-c5a2-4e10-8fea-c309ae0c8c36"
   },
   "outputs": [],
   "source": [
    "# Prediction on X_test using Logistic Regression Model\n",
    "y_pred_logreg = logreg_model.predict(X_test)"
   ]
  },
  {
   "cell_type": "code",
   "execution_count": 144,
   "id": "b475e8d5-49d0-40ec-bd5e-c6a1a16cf97a",
   "metadata": {
    "id": "b475e8d5-49d0-40ec-bd5e-c6a1a16cf97a"
   },
   "outputs": [
    {
     "name": "stdout",
     "output_type": "stream",
     "text": [
      "Logistic Regression Evaluation:\n",
      "Accuracy: 0.2388\n",
      "\n",
      "Classification Report:\n",
      "              precision    recall  f1-score   support\n",
      "\n",
      "           0       0.21      0.13      0.16       955\n",
      "           1       0.24      0.17      0.20       985\n",
      "           2       0.27      0.45      0.34      1021\n",
      "           3       0.25      0.26      0.25      1030\n",
      "           4       0.23      0.09      0.13      1034\n",
      "           5       0.23      0.30      0.26       995\n",
      "           6       0.28      0.40      0.33       986\n",
      "           7       0.26      0.03      0.06      1008\n",
      "           8       0.21      0.28      0.24      1009\n",
      "           9       0.19      0.27      0.23       977\n",
      "\n",
      "    accuracy                           0.24     10000\n",
      "   macro avg       0.24      0.24      0.22     10000\n",
      "weighted avg       0.24      0.24      0.22     10000\n",
      "\n"
     ]
    }
   ],
   "source": [
    "# Evaluating Logistic Regression Model\n",
    "\n",
    "print(\"Logistic Regression Evaluation:\")\n",
    "print(f\"Accuracy: {accuracy_score(y_test, y_pred_logreg)}\")\n",
    "\n",
    "print(\"\\nClassification Report:\")\n",
    "print(classification_report(y_test, y_pred_logreg))"
   ]
  },
  {
   "cell_type": "markdown",
   "id": "4530f585-bc82-4f8a-9ee9-4d3e17381bdc",
   "metadata": {},
   "source": [
    "#### Observation:\n",
    "With Default values, Logistic Regression Model is performing poorly on test data with an accuracy of 23.88%. Performing hyperparameter tuning to get better accuracy."
   ]
  },
  {
   "cell_type": "markdown",
   "id": "2c69988a-da8b-4e56-86a7-65a1c4fd76e4",
   "metadata": {},
   "source": [
    "#### 3b. Tuning hyperparameters as necessary. Use cross-validation to ensure robust evaluation of model performance."
   ]
  },
  {
   "cell_type": "markdown",
   "id": "f475629f-1afc-4545-a52d-0a597da98246",
   "metadata": {
    "id": "f475629f-1afc-4545-a52d-0a597da98246"
   },
   "source": [
    "### Model Tuning: Experiment with different models and tune hyperparameters to optimize performance."
   ]
  },
  {
   "cell_type": "code",
   "execution_count": 147,
   "id": "d03decd8-9379-49ee-aab9-ae3d33054935",
   "metadata": {
    "id": "d03decd8-9379-49ee-aab9-ae3d33054935"
   },
   "outputs": [],
   "source": [
    "# Parameter list\n",
    "logreg_param_grid = {'C': [0.01, 1, 10],\n",
    "                    'penalty': ['l1', 'l2'],\n",
    "                    'solver': ['liblinear'],\n",
    "                    'max_iter': [100, 200, 300]}"
   ]
  },
  {
   "cell_type": "code",
   "execution_count": 148,
   "id": "cd033000-e1c4-4085-8530-899c303a71df",
   "metadata": {
    "id": "cd033000-e1c4-4085-8530-899c303a71df"
   },
   "outputs": [
    {
     "name": "stdout",
     "output_type": "stream",
     "text": [
      "Best Parameters: {'solver': 'liblinear', 'penalty': 'l2', 'max_iter': 200, 'C': 10}\n",
      "Best Accuracy: 0.8286\n"
     ]
    }
   ],
   "source": [
    "# Building Logistic Regression model\n",
    "logreg = LogisticRegression()\n",
    "\n",
    "# Setting up RandomizedSearchCV\n",
    "logreg_random_search = RandomizedSearchCV(estimator=logreg, param_distributions=logreg_param_grid, n_iter=10, cv=5, scoring='accuracy', n_jobs=-1)\n",
    "\n",
    "# Fitting the model using RandomizedSearchCV\n",
    "logreg_random_search.fit(X_train, y_train)\n",
    "\n",
    "# Printing the best hyperparameters and best score\n",
    "print(\"Best Parameters:\", logreg_random_search.best_params_)\n",
    "print(\"Best Accuracy:\", logreg_random_search.best_score_)"
   ]
  },
  {
   "cell_type": "markdown",
   "id": "447e895d-b417-49aa-8ec4-d0c47a8ee6e0",
   "metadata": {},
   "source": [
    "#### Observation:\n",
    "After hyperparameter tuning for Logistic Regression model, accuracy has increased from 23.88% to 82.86%. We can consider this model during model evaluation as the accuracy value is highest among all other models. See below for reference."
   ]
  },
  {
   "cell_type": "markdown",
   "id": "f2553518-3457-44d6-9078-2d32744fdb62",
   "metadata": {
    "id": "f2553518-3457-44d6-9078-2d32744fdb62"
   },
   "source": [
    "# 2. Random Forest"
   ]
  },
  {
   "cell_type": "code",
   "execution_count": 150,
   "id": "f8d2d539-37fc-4d01-b152-0129239bc1f1",
   "metadata": {
    "id": "f8d2d539-37fc-4d01-b152-0129239bc1f1"
   },
   "outputs": [
    {
     "data": {
      "text/html": [
       "<style>#sk-container-id-2 {\n",
       "  /* Definition of color scheme common for light and dark mode */\n",
       "  --sklearn-color-text: black;\n",
       "  --sklearn-color-line: gray;\n",
       "  /* Definition of color scheme for unfitted estimators */\n",
       "  --sklearn-color-unfitted-level-0: #fff5e6;\n",
       "  --sklearn-color-unfitted-level-1: #f6e4d2;\n",
       "  --sklearn-color-unfitted-level-2: #ffe0b3;\n",
       "  --sklearn-color-unfitted-level-3: chocolate;\n",
       "  /* Definition of color scheme for fitted estimators */\n",
       "  --sklearn-color-fitted-level-0: #f0f8ff;\n",
       "  --sklearn-color-fitted-level-1: #d4ebff;\n",
       "  --sklearn-color-fitted-level-2: #b3dbfd;\n",
       "  --sklearn-color-fitted-level-3: cornflowerblue;\n",
       "\n",
       "  /* Specific color for light theme */\n",
       "  --sklearn-color-text-on-default-background: var(--sg-text-color, var(--theme-code-foreground, var(--jp-content-font-color1, black)));\n",
       "  --sklearn-color-background: var(--sg-background-color, var(--theme-background, var(--jp-layout-color0, white)));\n",
       "  --sklearn-color-border-box: var(--sg-text-color, var(--theme-code-foreground, var(--jp-content-font-color1, black)));\n",
       "  --sklearn-color-icon: #696969;\n",
       "\n",
       "  @media (prefers-color-scheme: dark) {\n",
       "    /* Redefinition of color scheme for dark theme */\n",
       "    --sklearn-color-text-on-default-background: var(--sg-text-color, var(--theme-code-foreground, var(--jp-content-font-color1, white)));\n",
       "    --sklearn-color-background: var(--sg-background-color, var(--theme-background, var(--jp-layout-color0, #111)));\n",
       "    --sklearn-color-border-box: var(--sg-text-color, var(--theme-code-foreground, var(--jp-content-font-color1, white)));\n",
       "    --sklearn-color-icon: #878787;\n",
       "  }\n",
       "}\n",
       "\n",
       "#sk-container-id-2 {\n",
       "  color: var(--sklearn-color-text);\n",
       "}\n",
       "\n",
       "#sk-container-id-2 pre {\n",
       "  padding: 0;\n",
       "}\n",
       "\n",
       "#sk-container-id-2 input.sk-hidden--visually {\n",
       "  border: 0;\n",
       "  clip: rect(1px 1px 1px 1px);\n",
       "  clip: rect(1px, 1px, 1px, 1px);\n",
       "  height: 1px;\n",
       "  margin: -1px;\n",
       "  overflow: hidden;\n",
       "  padding: 0;\n",
       "  position: absolute;\n",
       "  width: 1px;\n",
       "}\n",
       "\n",
       "#sk-container-id-2 div.sk-dashed-wrapped {\n",
       "  border: 1px dashed var(--sklearn-color-line);\n",
       "  margin: 0 0.4em 0.5em 0.4em;\n",
       "  box-sizing: border-box;\n",
       "  padding-bottom: 0.4em;\n",
       "  background-color: var(--sklearn-color-background);\n",
       "}\n",
       "\n",
       "#sk-container-id-2 div.sk-container {\n",
       "  /* jupyter's `normalize.less` sets `[hidden] { display: none; }`\n",
       "     but bootstrap.min.css set `[hidden] { display: none !important; }`\n",
       "     so we also need the `!important` here to be able to override the\n",
       "     default hidden behavior on the sphinx rendered scikit-learn.org.\n",
       "     See: https://github.com/scikit-learn/scikit-learn/issues/21755 */\n",
       "  display: inline-block !important;\n",
       "  position: relative;\n",
       "}\n",
       "\n",
       "#sk-container-id-2 div.sk-text-repr-fallback {\n",
       "  display: none;\n",
       "}\n",
       "\n",
       "div.sk-parallel-item,\n",
       "div.sk-serial,\n",
       "div.sk-item {\n",
       "  /* draw centered vertical line to link estimators */\n",
       "  background-image: linear-gradient(var(--sklearn-color-text-on-default-background), var(--sklearn-color-text-on-default-background));\n",
       "  background-size: 2px 100%;\n",
       "  background-repeat: no-repeat;\n",
       "  background-position: center center;\n",
       "}\n",
       "\n",
       "/* Parallel-specific style estimator block */\n",
       "\n",
       "#sk-container-id-2 div.sk-parallel-item::after {\n",
       "  content: \"\";\n",
       "  width: 100%;\n",
       "  border-bottom: 2px solid var(--sklearn-color-text-on-default-background);\n",
       "  flex-grow: 1;\n",
       "}\n",
       "\n",
       "#sk-container-id-2 div.sk-parallel {\n",
       "  display: flex;\n",
       "  align-items: stretch;\n",
       "  justify-content: center;\n",
       "  background-color: var(--sklearn-color-background);\n",
       "  position: relative;\n",
       "}\n",
       "\n",
       "#sk-container-id-2 div.sk-parallel-item {\n",
       "  display: flex;\n",
       "  flex-direction: column;\n",
       "}\n",
       "\n",
       "#sk-container-id-2 div.sk-parallel-item:first-child::after {\n",
       "  align-self: flex-end;\n",
       "  width: 50%;\n",
       "}\n",
       "\n",
       "#sk-container-id-2 div.sk-parallel-item:last-child::after {\n",
       "  align-self: flex-start;\n",
       "  width: 50%;\n",
       "}\n",
       "\n",
       "#sk-container-id-2 div.sk-parallel-item:only-child::after {\n",
       "  width: 0;\n",
       "}\n",
       "\n",
       "/* Serial-specific style estimator block */\n",
       "\n",
       "#sk-container-id-2 div.sk-serial {\n",
       "  display: flex;\n",
       "  flex-direction: column;\n",
       "  align-items: center;\n",
       "  background-color: var(--sklearn-color-background);\n",
       "  padding-right: 1em;\n",
       "  padding-left: 1em;\n",
       "}\n",
       "\n",
       "\n",
       "/* Toggleable style: style used for estimator/Pipeline/ColumnTransformer box that is\n",
       "clickable and can be expanded/collapsed.\n",
       "- Pipeline and ColumnTransformer use this feature and define the default style\n",
       "- Estimators will overwrite some part of the style using the `sk-estimator` class\n",
       "*/\n",
       "\n",
       "/* Pipeline and ColumnTransformer style (default) */\n",
       "\n",
       "#sk-container-id-2 div.sk-toggleable {\n",
       "  /* Default theme specific background. It is overwritten whether we have a\n",
       "  specific estimator or a Pipeline/ColumnTransformer */\n",
       "  background-color: var(--sklearn-color-background);\n",
       "}\n",
       "\n",
       "/* Toggleable label */\n",
       "#sk-container-id-2 label.sk-toggleable__label {\n",
       "  cursor: pointer;\n",
       "  display: block;\n",
       "  width: 100%;\n",
       "  margin-bottom: 0;\n",
       "  padding: 0.5em;\n",
       "  box-sizing: border-box;\n",
       "  text-align: center;\n",
       "}\n",
       "\n",
       "#sk-container-id-2 label.sk-toggleable__label-arrow:before {\n",
       "  /* Arrow on the left of the label */\n",
       "  content: \"▸\";\n",
       "  float: left;\n",
       "  margin-right: 0.25em;\n",
       "  color: var(--sklearn-color-icon);\n",
       "}\n",
       "\n",
       "#sk-container-id-2 label.sk-toggleable__label-arrow:hover:before {\n",
       "  color: var(--sklearn-color-text);\n",
       "}\n",
       "\n",
       "/* Toggleable content - dropdown */\n",
       "\n",
       "#sk-container-id-2 div.sk-toggleable__content {\n",
       "  max-height: 0;\n",
       "  max-width: 0;\n",
       "  overflow: hidden;\n",
       "  text-align: left;\n",
       "  /* unfitted */\n",
       "  background-color: var(--sklearn-color-unfitted-level-0);\n",
       "}\n",
       "\n",
       "#sk-container-id-2 div.sk-toggleable__content.fitted {\n",
       "  /* fitted */\n",
       "  background-color: var(--sklearn-color-fitted-level-0);\n",
       "}\n",
       "\n",
       "#sk-container-id-2 div.sk-toggleable__content pre {\n",
       "  margin: 0.2em;\n",
       "  border-radius: 0.25em;\n",
       "  color: var(--sklearn-color-text);\n",
       "  /* unfitted */\n",
       "  background-color: var(--sklearn-color-unfitted-level-0);\n",
       "}\n",
       "\n",
       "#sk-container-id-2 div.sk-toggleable__content.fitted pre {\n",
       "  /* unfitted */\n",
       "  background-color: var(--sklearn-color-fitted-level-0);\n",
       "}\n",
       "\n",
       "#sk-container-id-2 input.sk-toggleable__control:checked~div.sk-toggleable__content {\n",
       "  /* Expand drop-down */\n",
       "  max-height: 200px;\n",
       "  max-width: 100%;\n",
       "  overflow: auto;\n",
       "}\n",
       "\n",
       "#sk-container-id-2 input.sk-toggleable__control:checked~label.sk-toggleable__label-arrow:before {\n",
       "  content: \"▾\";\n",
       "}\n",
       "\n",
       "/* Pipeline/ColumnTransformer-specific style */\n",
       "\n",
       "#sk-container-id-2 div.sk-label input.sk-toggleable__control:checked~label.sk-toggleable__label {\n",
       "  color: var(--sklearn-color-text);\n",
       "  background-color: var(--sklearn-color-unfitted-level-2);\n",
       "}\n",
       "\n",
       "#sk-container-id-2 div.sk-label.fitted input.sk-toggleable__control:checked~label.sk-toggleable__label {\n",
       "  background-color: var(--sklearn-color-fitted-level-2);\n",
       "}\n",
       "\n",
       "/* Estimator-specific style */\n",
       "\n",
       "/* Colorize estimator box */\n",
       "#sk-container-id-2 div.sk-estimator input.sk-toggleable__control:checked~label.sk-toggleable__label {\n",
       "  /* unfitted */\n",
       "  background-color: var(--sklearn-color-unfitted-level-2);\n",
       "}\n",
       "\n",
       "#sk-container-id-2 div.sk-estimator.fitted input.sk-toggleable__control:checked~label.sk-toggleable__label {\n",
       "  /* fitted */\n",
       "  background-color: var(--sklearn-color-fitted-level-2);\n",
       "}\n",
       "\n",
       "#sk-container-id-2 div.sk-label label.sk-toggleable__label,\n",
       "#sk-container-id-2 div.sk-label label {\n",
       "  /* The background is the default theme color */\n",
       "  color: var(--sklearn-color-text-on-default-background);\n",
       "}\n",
       "\n",
       "/* On hover, darken the color of the background */\n",
       "#sk-container-id-2 div.sk-label:hover label.sk-toggleable__label {\n",
       "  color: var(--sklearn-color-text);\n",
       "  background-color: var(--sklearn-color-unfitted-level-2);\n",
       "}\n",
       "\n",
       "/* Label box, darken color on hover, fitted */\n",
       "#sk-container-id-2 div.sk-label.fitted:hover label.sk-toggleable__label.fitted {\n",
       "  color: var(--sklearn-color-text);\n",
       "  background-color: var(--sklearn-color-fitted-level-2);\n",
       "}\n",
       "\n",
       "/* Estimator label */\n",
       "\n",
       "#sk-container-id-2 div.sk-label label {\n",
       "  font-family: monospace;\n",
       "  font-weight: bold;\n",
       "  display: inline-block;\n",
       "  line-height: 1.2em;\n",
       "}\n",
       "\n",
       "#sk-container-id-2 div.sk-label-container {\n",
       "  text-align: center;\n",
       "}\n",
       "\n",
       "/* Estimator-specific */\n",
       "#sk-container-id-2 div.sk-estimator {\n",
       "  font-family: monospace;\n",
       "  border: 1px dotted var(--sklearn-color-border-box);\n",
       "  border-radius: 0.25em;\n",
       "  box-sizing: border-box;\n",
       "  margin-bottom: 0.5em;\n",
       "  /* unfitted */\n",
       "  background-color: var(--sklearn-color-unfitted-level-0);\n",
       "}\n",
       "\n",
       "#sk-container-id-2 div.sk-estimator.fitted {\n",
       "  /* fitted */\n",
       "  background-color: var(--sklearn-color-fitted-level-0);\n",
       "}\n",
       "\n",
       "/* on hover */\n",
       "#sk-container-id-2 div.sk-estimator:hover {\n",
       "  /* unfitted */\n",
       "  background-color: var(--sklearn-color-unfitted-level-2);\n",
       "}\n",
       "\n",
       "#sk-container-id-2 div.sk-estimator.fitted:hover {\n",
       "  /* fitted */\n",
       "  background-color: var(--sklearn-color-fitted-level-2);\n",
       "}\n",
       "\n",
       "/* Specification for estimator info (e.g. \"i\" and \"?\") */\n",
       "\n",
       "/* Common style for \"i\" and \"?\" */\n",
       "\n",
       ".sk-estimator-doc-link,\n",
       "a:link.sk-estimator-doc-link,\n",
       "a:visited.sk-estimator-doc-link {\n",
       "  float: right;\n",
       "  font-size: smaller;\n",
       "  line-height: 1em;\n",
       "  font-family: monospace;\n",
       "  background-color: var(--sklearn-color-background);\n",
       "  border-radius: 1em;\n",
       "  height: 1em;\n",
       "  width: 1em;\n",
       "  text-decoration: none !important;\n",
       "  margin-left: 1ex;\n",
       "  /* unfitted */\n",
       "  border: var(--sklearn-color-unfitted-level-1) 1pt solid;\n",
       "  color: var(--sklearn-color-unfitted-level-1);\n",
       "}\n",
       "\n",
       ".sk-estimator-doc-link.fitted,\n",
       "a:link.sk-estimator-doc-link.fitted,\n",
       "a:visited.sk-estimator-doc-link.fitted {\n",
       "  /* fitted */\n",
       "  border: var(--sklearn-color-fitted-level-1) 1pt solid;\n",
       "  color: var(--sklearn-color-fitted-level-1);\n",
       "}\n",
       "\n",
       "/* On hover */\n",
       "div.sk-estimator:hover .sk-estimator-doc-link:hover,\n",
       ".sk-estimator-doc-link:hover,\n",
       "div.sk-label-container:hover .sk-estimator-doc-link:hover,\n",
       ".sk-estimator-doc-link:hover {\n",
       "  /* unfitted */\n",
       "  background-color: var(--sklearn-color-unfitted-level-3);\n",
       "  color: var(--sklearn-color-background);\n",
       "  text-decoration: none;\n",
       "}\n",
       "\n",
       "div.sk-estimator.fitted:hover .sk-estimator-doc-link.fitted:hover,\n",
       ".sk-estimator-doc-link.fitted:hover,\n",
       "div.sk-label-container:hover .sk-estimator-doc-link.fitted:hover,\n",
       ".sk-estimator-doc-link.fitted:hover {\n",
       "  /* fitted */\n",
       "  background-color: var(--sklearn-color-fitted-level-3);\n",
       "  color: var(--sklearn-color-background);\n",
       "  text-decoration: none;\n",
       "}\n",
       "\n",
       "/* Span, style for the box shown on hovering the info icon */\n",
       ".sk-estimator-doc-link span {\n",
       "  display: none;\n",
       "  z-index: 9999;\n",
       "  position: relative;\n",
       "  font-weight: normal;\n",
       "  right: .2ex;\n",
       "  padding: .5ex;\n",
       "  margin: .5ex;\n",
       "  width: min-content;\n",
       "  min-width: 20ex;\n",
       "  max-width: 50ex;\n",
       "  color: var(--sklearn-color-text);\n",
       "  box-shadow: 2pt 2pt 4pt #999;\n",
       "  /* unfitted */\n",
       "  background: var(--sklearn-color-unfitted-level-0);\n",
       "  border: .5pt solid var(--sklearn-color-unfitted-level-3);\n",
       "}\n",
       "\n",
       ".sk-estimator-doc-link.fitted span {\n",
       "  /* fitted */\n",
       "  background: var(--sklearn-color-fitted-level-0);\n",
       "  border: var(--sklearn-color-fitted-level-3);\n",
       "}\n",
       "\n",
       ".sk-estimator-doc-link:hover span {\n",
       "  display: block;\n",
       "}\n",
       "\n",
       "/* \"?\"-specific style due to the `<a>` HTML tag */\n",
       "\n",
       "#sk-container-id-2 a.estimator_doc_link {\n",
       "  float: right;\n",
       "  font-size: 1rem;\n",
       "  line-height: 1em;\n",
       "  font-family: monospace;\n",
       "  background-color: var(--sklearn-color-background);\n",
       "  border-radius: 1rem;\n",
       "  height: 1rem;\n",
       "  width: 1rem;\n",
       "  text-decoration: none;\n",
       "  /* unfitted */\n",
       "  color: var(--sklearn-color-unfitted-level-1);\n",
       "  border: var(--sklearn-color-unfitted-level-1) 1pt solid;\n",
       "}\n",
       "\n",
       "#sk-container-id-2 a.estimator_doc_link.fitted {\n",
       "  /* fitted */\n",
       "  border: var(--sklearn-color-fitted-level-1) 1pt solid;\n",
       "  color: var(--sklearn-color-fitted-level-1);\n",
       "}\n",
       "\n",
       "/* On hover */\n",
       "#sk-container-id-2 a.estimator_doc_link:hover {\n",
       "  /* unfitted */\n",
       "  background-color: var(--sklearn-color-unfitted-level-3);\n",
       "  color: var(--sklearn-color-background);\n",
       "  text-decoration: none;\n",
       "}\n",
       "\n",
       "#sk-container-id-2 a.estimator_doc_link.fitted:hover {\n",
       "  /* fitted */\n",
       "  background-color: var(--sklearn-color-fitted-level-3);\n",
       "}\n",
       "</style><div id=\"sk-container-id-2\" class=\"sk-top-container\"><div class=\"sk-text-repr-fallback\"><pre>RandomForestClassifier()</pre><b>In a Jupyter environment, please rerun this cell to show the HTML representation or trust the notebook. <br />On GitHub, the HTML representation is unable to render, please try loading this page with nbviewer.org.</b></div><div class=\"sk-container\" hidden><div class=\"sk-item\"><div class=\"sk-estimator fitted sk-toggleable\"><input class=\"sk-toggleable__control sk-hidden--visually\" id=\"sk-estimator-id-2\" type=\"checkbox\" checked><label for=\"sk-estimator-id-2\" class=\"sk-toggleable__label fitted sk-toggleable__label-arrow fitted\">&nbsp;&nbsp;RandomForestClassifier<a class=\"sk-estimator-doc-link fitted\" rel=\"noreferrer\" target=\"_blank\" href=\"https://scikit-learn.org/1.5/modules/generated/sklearn.ensemble.RandomForestClassifier.html\">?<span>Documentation for RandomForestClassifier</span></a><span class=\"sk-estimator-doc-link fitted\">i<span>Fitted</span></span></label><div class=\"sk-toggleable__content fitted\"><pre>RandomForestClassifier()</pre></div> </div></div></div></div>"
      ],
      "text/plain": [
       "RandomForestClassifier()"
      ]
     },
     "execution_count": 150,
     "metadata": {},
     "output_type": "execute_result"
    }
   ],
   "source": [
    "# Building Random Forest Model\n",
    "rf_model = RandomForestClassifier()\n",
    "rf_model.fit(X_train, y_train)"
   ]
  },
  {
   "cell_type": "code",
   "execution_count": 151,
   "id": "765a4937",
   "metadata": {
    "id": "765a4937"
   },
   "outputs": [],
   "source": [
    "# Prediction on X_test using Random Forest Model\n",
    "y_pred_rf = rf_model.predict(X_test)"
   ]
  },
  {
   "cell_type": "code",
   "execution_count": 152,
   "id": "f2347f10",
   "metadata": {
    "id": "f2347f10"
   },
   "outputs": [
    {
     "name": "stdout",
     "output_type": "stream",
     "text": [
      "Random Forest Evaluation:\n",
      "Accuracy: 0.7577\n",
      "\n",
      "Classification Report:\n",
      "              precision    recall  f1-score   support\n",
      "\n",
      "           0       0.81      0.81      0.81       955\n",
      "           1       0.68      0.73      0.70       985\n",
      "           2       0.74      0.80      0.77      1021\n",
      "           3       0.78      0.80      0.79      1030\n",
      "           4       0.79      0.61      0.69      1034\n",
      "           5       0.89      0.88      0.88       995\n",
      "           6       0.82      0.82      0.82       986\n",
      "           7       0.77      0.70      0.73      1008\n",
      "           8       0.63      0.75      0.68      1009\n",
      "           9       0.72      0.70      0.71       977\n",
      "\n",
      "    accuracy                           0.76     10000\n",
      "   macro avg       0.76      0.76      0.76     10000\n",
      "weighted avg       0.76      0.76      0.76     10000\n",
      "\n"
     ]
    }
   ],
   "source": [
    "# Evaluating Random Forest Model\n",
    "\n",
    "print(\"Random Forest Evaluation:\")\n",
    "print(f\"Accuracy: {accuracy_score(y_test, y_pred_rf)}\")\n",
    "\n",
    "print(\"\\nClassification Report:\")\n",
    "print(classification_report(y_test, y_pred_rf))"
   ]
  },
  {
   "cell_type": "markdown",
   "id": "31e55391-da12-473f-b85c-b20716687474",
   "metadata": {},
   "source": [
    "#### Observations:\n",
    "With Default values, Random Forest Model is performing well on test data with an accuracy of 75.77%. Performing hyperparameter tuning to get better accuracy."
   ]
  },
  {
   "cell_type": "markdown",
   "id": "32da7e61-8017-422c-be85-9047ce3c839b",
   "metadata": {
    "id": "32da7e61-8017-422c-be85-9047ce3c839b"
   },
   "source": [
    "### Model Tuning: Experiment with different models and tune hyperparameters to optimize performance."
   ]
  },
  {
   "cell_type": "code",
   "execution_count": 154,
   "id": "62bf818c-757c-4605-bf55-01c6b57b3e8a",
   "metadata": {
    "id": "62bf818c-757c-4605-bf55-01c6b57b3e8a"
   },
   "outputs": [],
   "source": [
    "# Parameter list\n",
    "rf_param_grid = { 'n_estimators': [100, 200, 300],\n",
    "                  'max_depth': [10, 20, 30],\n",
    "                  'criterion': ['gini', 'entropy']}"
   ]
  },
  {
   "cell_type": "code",
   "execution_count": 155,
   "id": "68946770-9ede-4d21-95bc-42b60a1d2091",
   "metadata": {
    "id": "68946770-9ede-4d21-95bc-42b60a1d2091"
   },
   "outputs": [
    {
     "name": "stdout",
     "output_type": "stream",
     "text": [
      "Best Parameters: {'n_estimators': 300, 'max_depth': 30, 'criterion': 'gini'}\n",
      "Best Accuracy: 0.6933499999999999\n"
     ]
    }
   ],
   "source": [
    "# Initializing Random Forest model\n",
    "rf = RandomForestClassifier()\n",
    "\n",
    "# Setting up RandomizedSearchCV\n",
    "rf_random_search= RandomizedSearchCV(estimator=rf, param_distributions=rf_param_grid, n_iter=10, cv=5, scoring='accuracy', n_jobs=-1)\n",
    "\n",
    "# Fitting the model using RandomizedSearchCV\n",
    "rf_random_search.fit(X_train, y_train)\n",
    "\n",
    "# Printing the best hyperparameters and best score\n",
    "print(\"Best Parameters:\", rf_random_search.best_params_)\n",
    "print(\"Best Accuracy:\", rf_random_search.best_score_)"
   ]
  },
  {
   "cell_type": "markdown",
   "id": "5d6519e2-13d1-49d6-95d6-8be0f03725cc",
   "metadata": {},
   "source": [
    "#### Observation:\n",
    "After hyperparameter tuning for Random Forest model, accuracy has decreased from 75.77% to 69.33%. Since the accuracy value is less than logistic regression model, not considering this model during model evaluation."
   ]
  },
  {
   "cell_type": "markdown",
   "id": "1c36bb3d-fa05-45c8-be34-e8e878e99665",
   "metadata": {
    "id": "1c36bb3d-fa05-45c8-be34-e8e878e99665"
   },
   "source": [
    "# 3. Support Vector Machine (SVM)"
   ]
  },
  {
   "cell_type": "code",
   "execution_count": 157,
   "id": "d43499dd-e2fc-422c-8862-ff3c380005b3",
   "metadata": {
    "id": "d43499dd-e2fc-422c-8862-ff3c380005b3"
   },
   "outputs": [
    {
     "data": {
      "text/html": [
       "<style>#sk-container-id-3 {\n",
       "  /* Definition of color scheme common for light and dark mode */\n",
       "  --sklearn-color-text: black;\n",
       "  --sklearn-color-line: gray;\n",
       "  /* Definition of color scheme for unfitted estimators */\n",
       "  --sklearn-color-unfitted-level-0: #fff5e6;\n",
       "  --sklearn-color-unfitted-level-1: #f6e4d2;\n",
       "  --sklearn-color-unfitted-level-2: #ffe0b3;\n",
       "  --sklearn-color-unfitted-level-3: chocolate;\n",
       "  /* Definition of color scheme for fitted estimators */\n",
       "  --sklearn-color-fitted-level-0: #f0f8ff;\n",
       "  --sklearn-color-fitted-level-1: #d4ebff;\n",
       "  --sklearn-color-fitted-level-2: #b3dbfd;\n",
       "  --sklearn-color-fitted-level-3: cornflowerblue;\n",
       "\n",
       "  /* Specific color for light theme */\n",
       "  --sklearn-color-text-on-default-background: var(--sg-text-color, var(--theme-code-foreground, var(--jp-content-font-color1, black)));\n",
       "  --sklearn-color-background: var(--sg-background-color, var(--theme-background, var(--jp-layout-color0, white)));\n",
       "  --sklearn-color-border-box: var(--sg-text-color, var(--theme-code-foreground, var(--jp-content-font-color1, black)));\n",
       "  --sklearn-color-icon: #696969;\n",
       "\n",
       "  @media (prefers-color-scheme: dark) {\n",
       "    /* Redefinition of color scheme for dark theme */\n",
       "    --sklearn-color-text-on-default-background: var(--sg-text-color, var(--theme-code-foreground, var(--jp-content-font-color1, white)));\n",
       "    --sklearn-color-background: var(--sg-background-color, var(--theme-background, var(--jp-layout-color0, #111)));\n",
       "    --sklearn-color-border-box: var(--sg-text-color, var(--theme-code-foreground, var(--jp-content-font-color1, white)));\n",
       "    --sklearn-color-icon: #878787;\n",
       "  }\n",
       "}\n",
       "\n",
       "#sk-container-id-3 {\n",
       "  color: var(--sklearn-color-text);\n",
       "}\n",
       "\n",
       "#sk-container-id-3 pre {\n",
       "  padding: 0;\n",
       "}\n",
       "\n",
       "#sk-container-id-3 input.sk-hidden--visually {\n",
       "  border: 0;\n",
       "  clip: rect(1px 1px 1px 1px);\n",
       "  clip: rect(1px, 1px, 1px, 1px);\n",
       "  height: 1px;\n",
       "  margin: -1px;\n",
       "  overflow: hidden;\n",
       "  padding: 0;\n",
       "  position: absolute;\n",
       "  width: 1px;\n",
       "}\n",
       "\n",
       "#sk-container-id-3 div.sk-dashed-wrapped {\n",
       "  border: 1px dashed var(--sklearn-color-line);\n",
       "  margin: 0 0.4em 0.5em 0.4em;\n",
       "  box-sizing: border-box;\n",
       "  padding-bottom: 0.4em;\n",
       "  background-color: var(--sklearn-color-background);\n",
       "}\n",
       "\n",
       "#sk-container-id-3 div.sk-container {\n",
       "  /* jupyter's `normalize.less` sets `[hidden] { display: none; }`\n",
       "     but bootstrap.min.css set `[hidden] { display: none !important; }`\n",
       "     so we also need the `!important` here to be able to override the\n",
       "     default hidden behavior on the sphinx rendered scikit-learn.org.\n",
       "     See: https://github.com/scikit-learn/scikit-learn/issues/21755 */\n",
       "  display: inline-block !important;\n",
       "  position: relative;\n",
       "}\n",
       "\n",
       "#sk-container-id-3 div.sk-text-repr-fallback {\n",
       "  display: none;\n",
       "}\n",
       "\n",
       "div.sk-parallel-item,\n",
       "div.sk-serial,\n",
       "div.sk-item {\n",
       "  /* draw centered vertical line to link estimators */\n",
       "  background-image: linear-gradient(var(--sklearn-color-text-on-default-background), var(--sklearn-color-text-on-default-background));\n",
       "  background-size: 2px 100%;\n",
       "  background-repeat: no-repeat;\n",
       "  background-position: center center;\n",
       "}\n",
       "\n",
       "/* Parallel-specific style estimator block */\n",
       "\n",
       "#sk-container-id-3 div.sk-parallel-item::after {\n",
       "  content: \"\";\n",
       "  width: 100%;\n",
       "  border-bottom: 2px solid var(--sklearn-color-text-on-default-background);\n",
       "  flex-grow: 1;\n",
       "}\n",
       "\n",
       "#sk-container-id-3 div.sk-parallel {\n",
       "  display: flex;\n",
       "  align-items: stretch;\n",
       "  justify-content: center;\n",
       "  background-color: var(--sklearn-color-background);\n",
       "  position: relative;\n",
       "}\n",
       "\n",
       "#sk-container-id-3 div.sk-parallel-item {\n",
       "  display: flex;\n",
       "  flex-direction: column;\n",
       "}\n",
       "\n",
       "#sk-container-id-3 div.sk-parallel-item:first-child::after {\n",
       "  align-self: flex-end;\n",
       "  width: 50%;\n",
       "}\n",
       "\n",
       "#sk-container-id-3 div.sk-parallel-item:last-child::after {\n",
       "  align-self: flex-start;\n",
       "  width: 50%;\n",
       "}\n",
       "\n",
       "#sk-container-id-3 div.sk-parallel-item:only-child::after {\n",
       "  width: 0;\n",
       "}\n",
       "\n",
       "/* Serial-specific style estimator block */\n",
       "\n",
       "#sk-container-id-3 div.sk-serial {\n",
       "  display: flex;\n",
       "  flex-direction: column;\n",
       "  align-items: center;\n",
       "  background-color: var(--sklearn-color-background);\n",
       "  padding-right: 1em;\n",
       "  padding-left: 1em;\n",
       "}\n",
       "\n",
       "\n",
       "/* Toggleable style: style used for estimator/Pipeline/ColumnTransformer box that is\n",
       "clickable and can be expanded/collapsed.\n",
       "- Pipeline and ColumnTransformer use this feature and define the default style\n",
       "- Estimators will overwrite some part of the style using the `sk-estimator` class\n",
       "*/\n",
       "\n",
       "/* Pipeline and ColumnTransformer style (default) */\n",
       "\n",
       "#sk-container-id-3 div.sk-toggleable {\n",
       "  /* Default theme specific background. It is overwritten whether we have a\n",
       "  specific estimator or a Pipeline/ColumnTransformer */\n",
       "  background-color: var(--sklearn-color-background);\n",
       "}\n",
       "\n",
       "/* Toggleable label */\n",
       "#sk-container-id-3 label.sk-toggleable__label {\n",
       "  cursor: pointer;\n",
       "  display: block;\n",
       "  width: 100%;\n",
       "  margin-bottom: 0;\n",
       "  padding: 0.5em;\n",
       "  box-sizing: border-box;\n",
       "  text-align: center;\n",
       "}\n",
       "\n",
       "#sk-container-id-3 label.sk-toggleable__label-arrow:before {\n",
       "  /* Arrow on the left of the label */\n",
       "  content: \"▸\";\n",
       "  float: left;\n",
       "  margin-right: 0.25em;\n",
       "  color: var(--sklearn-color-icon);\n",
       "}\n",
       "\n",
       "#sk-container-id-3 label.sk-toggleable__label-arrow:hover:before {\n",
       "  color: var(--sklearn-color-text);\n",
       "}\n",
       "\n",
       "/* Toggleable content - dropdown */\n",
       "\n",
       "#sk-container-id-3 div.sk-toggleable__content {\n",
       "  max-height: 0;\n",
       "  max-width: 0;\n",
       "  overflow: hidden;\n",
       "  text-align: left;\n",
       "  /* unfitted */\n",
       "  background-color: var(--sklearn-color-unfitted-level-0);\n",
       "}\n",
       "\n",
       "#sk-container-id-3 div.sk-toggleable__content.fitted {\n",
       "  /* fitted */\n",
       "  background-color: var(--sklearn-color-fitted-level-0);\n",
       "}\n",
       "\n",
       "#sk-container-id-3 div.sk-toggleable__content pre {\n",
       "  margin: 0.2em;\n",
       "  border-radius: 0.25em;\n",
       "  color: var(--sklearn-color-text);\n",
       "  /* unfitted */\n",
       "  background-color: var(--sklearn-color-unfitted-level-0);\n",
       "}\n",
       "\n",
       "#sk-container-id-3 div.sk-toggleable__content.fitted pre {\n",
       "  /* unfitted */\n",
       "  background-color: var(--sklearn-color-fitted-level-0);\n",
       "}\n",
       "\n",
       "#sk-container-id-3 input.sk-toggleable__control:checked~div.sk-toggleable__content {\n",
       "  /* Expand drop-down */\n",
       "  max-height: 200px;\n",
       "  max-width: 100%;\n",
       "  overflow: auto;\n",
       "}\n",
       "\n",
       "#sk-container-id-3 input.sk-toggleable__control:checked~label.sk-toggleable__label-arrow:before {\n",
       "  content: \"▾\";\n",
       "}\n",
       "\n",
       "/* Pipeline/ColumnTransformer-specific style */\n",
       "\n",
       "#sk-container-id-3 div.sk-label input.sk-toggleable__control:checked~label.sk-toggleable__label {\n",
       "  color: var(--sklearn-color-text);\n",
       "  background-color: var(--sklearn-color-unfitted-level-2);\n",
       "}\n",
       "\n",
       "#sk-container-id-3 div.sk-label.fitted input.sk-toggleable__control:checked~label.sk-toggleable__label {\n",
       "  background-color: var(--sklearn-color-fitted-level-2);\n",
       "}\n",
       "\n",
       "/* Estimator-specific style */\n",
       "\n",
       "/* Colorize estimator box */\n",
       "#sk-container-id-3 div.sk-estimator input.sk-toggleable__control:checked~label.sk-toggleable__label {\n",
       "  /* unfitted */\n",
       "  background-color: var(--sklearn-color-unfitted-level-2);\n",
       "}\n",
       "\n",
       "#sk-container-id-3 div.sk-estimator.fitted input.sk-toggleable__control:checked~label.sk-toggleable__label {\n",
       "  /* fitted */\n",
       "  background-color: var(--sklearn-color-fitted-level-2);\n",
       "}\n",
       "\n",
       "#sk-container-id-3 div.sk-label label.sk-toggleable__label,\n",
       "#sk-container-id-3 div.sk-label label {\n",
       "  /* The background is the default theme color */\n",
       "  color: var(--sklearn-color-text-on-default-background);\n",
       "}\n",
       "\n",
       "/* On hover, darken the color of the background */\n",
       "#sk-container-id-3 div.sk-label:hover label.sk-toggleable__label {\n",
       "  color: var(--sklearn-color-text);\n",
       "  background-color: var(--sklearn-color-unfitted-level-2);\n",
       "}\n",
       "\n",
       "/* Label box, darken color on hover, fitted */\n",
       "#sk-container-id-3 div.sk-label.fitted:hover label.sk-toggleable__label.fitted {\n",
       "  color: var(--sklearn-color-text);\n",
       "  background-color: var(--sklearn-color-fitted-level-2);\n",
       "}\n",
       "\n",
       "/* Estimator label */\n",
       "\n",
       "#sk-container-id-3 div.sk-label label {\n",
       "  font-family: monospace;\n",
       "  font-weight: bold;\n",
       "  display: inline-block;\n",
       "  line-height: 1.2em;\n",
       "}\n",
       "\n",
       "#sk-container-id-3 div.sk-label-container {\n",
       "  text-align: center;\n",
       "}\n",
       "\n",
       "/* Estimator-specific */\n",
       "#sk-container-id-3 div.sk-estimator {\n",
       "  font-family: monospace;\n",
       "  border: 1px dotted var(--sklearn-color-border-box);\n",
       "  border-radius: 0.25em;\n",
       "  box-sizing: border-box;\n",
       "  margin-bottom: 0.5em;\n",
       "  /* unfitted */\n",
       "  background-color: var(--sklearn-color-unfitted-level-0);\n",
       "}\n",
       "\n",
       "#sk-container-id-3 div.sk-estimator.fitted {\n",
       "  /* fitted */\n",
       "  background-color: var(--sklearn-color-fitted-level-0);\n",
       "}\n",
       "\n",
       "/* on hover */\n",
       "#sk-container-id-3 div.sk-estimator:hover {\n",
       "  /* unfitted */\n",
       "  background-color: var(--sklearn-color-unfitted-level-2);\n",
       "}\n",
       "\n",
       "#sk-container-id-3 div.sk-estimator.fitted:hover {\n",
       "  /* fitted */\n",
       "  background-color: var(--sklearn-color-fitted-level-2);\n",
       "}\n",
       "\n",
       "/* Specification for estimator info (e.g. \"i\" and \"?\") */\n",
       "\n",
       "/* Common style for \"i\" and \"?\" */\n",
       "\n",
       ".sk-estimator-doc-link,\n",
       "a:link.sk-estimator-doc-link,\n",
       "a:visited.sk-estimator-doc-link {\n",
       "  float: right;\n",
       "  font-size: smaller;\n",
       "  line-height: 1em;\n",
       "  font-family: monospace;\n",
       "  background-color: var(--sklearn-color-background);\n",
       "  border-radius: 1em;\n",
       "  height: 1em;\n",
       "  width: 1em;\n",
       "  text-decoration: none !important;\n",
       "  margin-left: 1ex;\n",
       "  /* unfitted */\n",
       "  border: var(--sklearn-color-unfitted-level-1) 1pt solid;\n",
       "  color: var(--sklearn-color-unfitted-level-1);\n",
       "}\n",
       "\n",
       ".sk-estimator-doc-link.fitted,\n",
       "a:link.sk-estimator-doc-link.fitted,\n",
       "a:visited.sk-estimator-doc-link.fitted {\n",
       "  /* fitted */\n",
       "  border: var(--sklearn-color-fitted-level-1) 1pt solid;\n",
       "  color: var(--sklearn-color-fitted-level-1);\n",
       "}\n",
       "\n",
       "/* On hover */\n",
       "div.sk-estimator:hover .sk-estimator-doc-link:hover,\n",
       ".sk-estimator-doc-link:hover,\n",
       "div.sk-label-container:hover .sk-estimator-doc-link:hover,\n",
       ".sk-estimator-doc-link:hover {\n",
       "  /* unfitted */\n",
       "  background-color: var(--sklearn-color-unfitted-level-3);\n",
       "  color: var(--sklearn-color-background);\n",
       "  text-decoration: none;\n",
       "}\n",
       "\n",
       "div.sk-estimator.fitted:hover .sk-estimator-doc-link.fitted:hover,\n",
       ".sk-estimator-doc-link.fitted:hover,\n",
       "div.sk-label-container:hover .sk-estimator-doc-link.fitted:hover,\n",
       ".sk-estimator-doc-link.fitted:hover {\n",
       "  /* fitted */\n",
       "  background-color: var(--sklearn-color-fitted-level-3);\n",
       "  color: var(--sklearn-color-background);\n",
       "  text-decoration: none;\n",
       "}\n",
       "\n",
       "/* Span, style for the box shown on hovering the info icon */\n",
       ".sk-estimator-doc-link span {\n",
       "  display: none;\n",
       "  z-index: 9999;\n",
       "  position: relative;\n",
       "  font-weight: normal;\n",
       "  right: .2ex;\n",
       "  padding: .5ex;\n",
       "  margin: .5ex;\n",
       "  width: min-content;\n",
       "  min-width: 20ex;\n",
       "  max-width: 50ex;\n",
       "  color: var(--sklearn-color-text);\n",
       "  box-shadow: 2pt 2pt 4pt #999;\n",
       "  /* unfitted */\n",
       "  background: var(--sklearn-color-unfitted-level-0);\n",
       "  border: .5pt solid var(--sklearn-color-unfitted-level-3);\n",
       "}\n",
       "\n",
       ".sk-estimator-doc-link.fitted span {\n",
       "  /* fitted */\n",
       "  background: var(--sklearn-color-fitted-level-0);\n",
       "  border: var(--sklearn-color-fitted-level-3);\n",
       "}\n",
       "\n",
       ".sk-estimator-doc-link:hover span {\n",
       "  display: block;\n",
       "}\n",
       "\n",
       "/* \"?\"-specific style due to the `<a>` HTML tag */\n",
       "\n",
       "#sk-container-id-3 a.estimator_doc_link {\n",
       "  float: right;\n",
       "  font-size: 1rem;\n",
       "  line-height: 1em;\n",
       "  font-family: monospace;\n",
       "  background-color: var(--sklearn-color-background);\n",
       "  border-radius: 1rem;\n",
       "  height: 1rem;\n",
       "  width: 1rem;\n",
       "  text-decoration: none;\n",
       "  /* unfitted */\n",
       "  color: var(--sklearn-color-unfitted-level-1);\n",
       "  border: var(--sklearn-color-unfitted-level-1) 1pt solid;\n",
       "}\n",
       "\n",
       "#sk-container-id-3 a.estimator_doc_link.fitted {\n",
       "  /* fitted */\n",
       "  border: var(--sklearn-color-fitted-level-1) 1pt solid;\n",
       "  color: var(--sklearn-color-fitted-level-1);\n",
       "}\n",
       "\n",
       "/* On hover */\n",
       "#sk-container-id-3 a.estimator_doc_link:hover {\n",
       "  /* unfitted */\n",
       "  background-color: var(--sklearn-color-unfitted-level-3);\n",
       "  color: var(--sklearn-color-background);\n",
       "  text-decoration: none;\n",
       "}\n",
       "\n",
       "#sk-container-id-3 a.estimator_doc_link.fitted:hover {\n",
       "  /* fitted */\n",
       "  background-color: var(--sklearn-color-fitted-level-3);\n",
       "}\n",
       "</style><div id=\"sk-container-id-3\" class=\"sk-top-container\"><div class=\"sk-text-repr-fallback\"><pre>SVC()</pre><b>In a Jupyter environment, please rerun this cell to show the HTML representation or trust the notebook. <br />On GitHub, the HTML representation is unable to render, please try loading this page with nbviewer.org.</b></div><div class=\"sk-container\" hidden><div class=\"sk-item\"><div class=\"sk-estimator fitted sk-toggleable\"><input class=\"sk-toggleable__control sk-hidden--visually\" id=\"sk-estimator-id-3\" type=\"checkbox\" checked><label for=\"sk-estimator-id-3\" class=\"sk-toggleable__label fitted sk-toggleable__label-arrow fitted\">&nbsp;&nbsp;SVC<a class=\"sk-estimator-doc-link fitted\" rel=\"noreferrer\" target=\"_blank\" href=\"https://scikit-learn.org/1.5/modules/generated/sklearn.svm.SVC.html\">?<span>Documentation for SVC</span></a><span class=\"sk-estimator-doc-link fitted\">i<span>Fitted</span></span></label><div class=\"sk-toggleable__content fitted\"><pre>SVC()</pre></div> </div></div></div></div>"
      ],
      "text/plain": [
       "SVC()"
      ]
     },
     "execution_count": 157,
     "metadata": {},
     "output_type": "execute_result"
    }
   ],
   "source": [
    "# Building SVM Model\n",
    "svm_model = SVC()\n",
    "svm_model.fit(X_train, y_train)"
   ]
  },
  {
   "cell_type": "code",
   "execution_count": 158,
   "id": "1b826d0d",
   "metadata": {
    "id": "1b826d0d"
   },
   "outputs": [],
   "source": [
    "# Prediction on X_test using SVM Model\n",
    "y_pred_svm = svm_model.predict(X_test)"
   ]
  },
  {
   "cell_type": "code",
   "execution_count": 159,
   "id": "b61be3bd",
   "metadata": {
    "id": "b61be3bd"
   },
   "outputs": [
    {
     "name": "stdout",
     "output_type": "stream",
     "text": [
      "SVM Evaluation:\n",
      "Accuracy: 0.2388\n",
      "\n",
      "Classification Report:\n",
      "              precision    recall  f1-score   support\n",
      "\n",
      "           0       0.20      0.16      0.18       955\n",
      "           1       0.34      0.23      0.27       985\n",
      "           2       0.32      0.31      0.32      1021\n",
      "           3       0.21      0.26      0.23      1030\n",
      "           4       0.32      0.01      0.03      1034\n",
      "           5       0.21      0.17      0.19       995\n",
      "           6       0.23      0.59      0.33       986\n",
      "           7       0.18      0.02      0.04      1008\n",
      "           8       0.22      0.39      0.28      1009\n",
      "           9       0.24      0.25      0.24       977\n",
      "\n",
      "    accuracy                           0.24     10000\n",
      "   macro avg       0.25      0.24      0.21     10000\n",
      "weighted avg       0.25      0.24      0.21     10000\n",
      "\n"
     ]
    }
   ],
   "source": [
    "# Evaluating SVM Model\n",
    "\n",
    "print(\"SVM Evaluation:\")\n",
    "print(f\"Accuracy: {accuracy_score(y_test, y_pred_svm)}\")\n",
    "\n",
    "print(\"\\nClassification Report:\")\n",
    "print(classification_report(y_test, y_pred_svm))"
   ]
  },
  {
   "cell_type": "markdown",
   "id": "85c2c045-b711-4554-9a9b-b706c760ed0a",
   "metadata": {},
   "source": [
    "#### Observation:\n",
    "With Default values, SVM Model is performing poorly on test data with an accuracy of 23.88%. So, not considering this model for model evaluation."
   ]
  },
  {
   "cell_type": "markdown",
   "id": "765cf7db-5d42-45f2-b40a-57e1046debb4",
   "metadata": {
    "id": "765cf7db-5d42-45f2-b40a-57e1046debb4"
   },
   "source": [
    "# 4. Model Evaluation"
   ]
  },
  {
   "cell_type": "markdown",
   "id": "f37ed65e-20c6-4474-a941-3940449c3e2e",
   "metadata": {
    "id": "f37ed65e-20c6-4474-a941-3940449c3e2e"
   },
   "source": [
    "#### Evaluate the model’s performance using appropriate metrics."
   ]
  },
  {
   "cell_type": "markdown",
   "id": "c9ceb7b3-0fa7-462b-b8a2-8c2f700ca279",
   "metadata": {},
   "source": [
    "Among all the models, Logistic regression is giving highest accuracy. So considering this model for evaluating the model performance."
   ]
  },
  {
   "cell_type": "markdown",
   "id": "08495e6b-1e82-4f28-afcc-9624d8ea842f",
   "metadata": {},
   "source": [
    "#### Logistic Regression"
   ]
  },
  {
   "cell_type": "code",
   "execution_count": 165,
   "id": "457522c1-9dd4-41af-81cb-06067ac80d48",
   "metadata": {},
   "outputs": [
    {
     "data": {
      "text/html": [
       "<style>#sk-container-id-4 {\n",
       "  /* Definition of color scheme common for light and dark mode */\n",
       "  --sklearn-color-text: black;\n",
       "  --sklearn-color-line: gray;\n",
       "  /* Definition of color scheme for unfitted estimators */\n",
       "  --sklearn-color-unfitted-level-0: #fff5e6;\n",
       "  --sklearn-color-unfitted-level-1: #f6e4d2;\n",
       "  --sklearn-color-unfitted-level-2: #ffe0b3;\n",
       "  --sklearn-color-unfitted-level-3: chocolate;\n",
       "  /* Definition of color scheme for fitted estimators */\n",
       "  --sklearn-color-fitted-level-0: #f0f8ff;\n",
       "  --sklearn-color-fitted-level-1: #d4ebff;\n",
       "  --sklearn-color-fitted-level-2: #b3dbfd;\n",
       "  --sklearn-color-fitted-level-3: cornflowerblue;\n",
       "\n",
       "  /* Specific color for light theme */\n",
       "  --sklearn-color-text-on-default-background: var(--sg-text-color, var(--theme-code-foreground, var(--jp-content-font-color1, black)));\n",
       "  --sklearn-color-background: var(--sg-background-color, var(--theme-background, var(--jp-layout-color0, white)));\n",
       "  --sklearn-color-border-box: var(--sg-text-color, var(--theme-code-foreground, var(--jp-content-font-color1, black)));\n",
       "  --sklearn-color-icon: #696969;\n",
       "\n",
       "  @media (prefers-color-scheme: dark) {\n",
       "    /* Redefinition of color scheme for dark theme */\n",
       "    --sklearn-color-text-on-default-background: var(--sg-text-color, var(--theme-code-foreground, var(--jp-content-font-color1, white)));\n",
       "    --sklearn-color-background: var(--sg-background-color, var(--theme-background, var(--jp-layout-color0, #111)));\n",
       "    --sklearn-color-border-box: var(--sg-text-color, var(--theme-code-foreground, var(--jp-content-font-color1, white)));\n",
       "    --sklearn-color-icon: #878787;\n",
       "  }\n",
       "}\n",
       "\n",
       "#sk-container-id-4 {\n",
       "  color: var(--sklearn-color-text);\n",
       "}\n",
       "\n",
       "#sk-container-id-4 pre {\n",
       "  padding: 0;\n",
       "}\n",
       "\n",
       "#sk-container-id-4 input.sk-hidden--visually {\n",
       "  border: 0;\n",
       "  clip: rect(1px 1px 1px 1px);\n",
       "  clip: rect(1px, 1px, 1px, 1px);\n",
       "  height: 1px;\n",
       "  margin: -1px;\n",
       "  overflow: hidden;\n",
       "  padding: 0;\n",
       "  position: absolute;\n",
       "  width: 1px;\n",
       "}\n",
       "\n",
       "#sk-container-id-4 div.sk-dashed-wrapped {\n",
       "  border: 1px dashed var(--sklearn-color-line);\n",
       "  margin: 0 0.4em 0.5em 0.4em;\n",
       "  box-sizing: border-box;\n",
       "  padding-bottom: 0.4em;\n",
       "  background-color: var(--sklearn-color-background);\n",
       "}\n",
       "\n",
       "#sk-container-id-4 div.sk-container {\n",
       "  /* jupyter's `normalize.less` sets `[hidden] { display: none; }`\n",
       "     but bootstrap.min.css set `[hidden] { display: none !important; }`\n",
       "     so we also need the `!important` here to be able to override the\n",
       "     default hidden behavior on the sphinx rendered scikit-learn.org.\n",
       "     See: https://github.com/scikit-learn/scikit-learn/issues/21755 */\n",
       "  display: inline-block !important;\n",
       "  position: relative;\n",
       "}\n",
       "\n",
       "#sk-container-id-4 div.sk-text-repr-fallback {\n",
       "  display: none;\n",
       "}\n",
       "\n",
       "div.sk-parallel-item,\n",
       "div.sk-serial,\n",
       "div.sk-item {\n",
       "  /* draw centered vertical line to link estimators */\n",
       "  background-image: linear-gradient(var(--sklearn-color-text-on-default-background), var(--sklearn-color-text-on-default-background));\n",
       "  background-size: 2px 100%;\n",
       "  background-repeat: no-repeat;\n",
       "  background-position: center center;\n",
       "}\n",
       "\n",
       "/* Parallel-specific style estimator block */\n",
       "\n",
       "#sk-container-id-4 div.sk-parallel-item::after {\n",
       "  content: \"\";\n",
       "  width: 100%;\n",
       "  border-bottom: 2px solid var(--sklearn-color-text-on-default-background);\n",
       "  flex-grow: 1;\n",
       "}\n",
       "\n",
       "#sk-container-id-4 div.sk-parallel {\n",
       "  display: flex;\n",
       "  align-items: stretch;\n",
       "  justify-content: center;\n",
       "  background-color: var(--sklearn-color-background);\n",
       "  position: relative;\n",
       "}\n",
       "\n",
       "#sk-container-id-4 div.sk-parallel-item {\n",
       "  display: flex;\n",
       "  flex-direction: column;\n",
       "}\n",
       "\n",
       "#sk-container-id-4 div.sk-parallel-item:first-child::after {\n",
       "  align-self: flex-end;\n",
       "  width: 50%;\n",
       "}\n",
       "\n",
       "#sk-container-id-4 div.sk-parallel-item:last-child::after {\n",
       "  align-self: flex-start;\n",
       "  width: 50%;\n",
       "}\n",
       "\n",
       "#sk-container-id-4 div.sk-parallel-item:only-child::after {\n",
       "  width: 0;\n",
       "}\n",
       "\n",
       "/* Serial-specific style estimator block */\n",
       "\n",
       "#sk-container-id-4 div.sk-serial {\n",
       "  display: flex;\n",
       "  flex-direction: column;\n",
       "  align-items: center;\n",
       "  background-color: var(--sklearn-color-background);\n",
       "  padding-right: 1em;\n",
       "  padding-left: 1em;\n",
       "}\n",
       "\n",
       "\n",
       "/* Toggleable style: style used for estimator/Pipeline/ColumnTransformer box that is\n",
       "clickable and can be expanded/collapsed.\n",
       "- Pipeline and ColumnTransformer use this feature and define the default style\n",
       "- Estimators will overwrite some part of the style using the `sk-estimator` class\n",
       "*/\n",
       "\n",
       "/* Pipeline and ColumnTransformer style (default) */\n",
       "\n",
       "#sk-container-id-4 div.sk-toggleable {\n",
       "  /* Default theme specific background. It is overwritten whether we have a\n",
       "  specific estimator or a Pipeline/ColumnTransformer */\n",
       "  background-color: var(--sklearn-color-background);\n",
       "}\n",
       "\n",
       "/* Toggleable label */\n",
       "#sk-container-id-4 label.sk-toggleable__label {\n",
       "  cursor: pointer;\n",
       "  display: block;\n",
       "  width: 100%;\n",
       "  margin-bottom: 0;\n",
       "  padding: 0.5em;\n",
       "  box-sizing: border-box;\n",
       "  text-align: center;\n",
       "}\n",
       "\n",
       "#sk-container-id-4 label.sk-toggleable__label-arrow:before {\n",
       "  /* Arrow on the left of the label */\n",
       "  content: \"▸\";\n",
       "  float: left;\n",
       "  margin-right: 0.25em;\n",
       "  color: var(--sklearn-color-icon);\n",
       "}\n",
       "\n",
       "#sk-container-id-4 label.sk-toggleable__label-arrow:hover:before {\n",
       "  color: var(--sklearn-color-text);\n",
       "}\n",
       "\n",
       "/* Toggleable content - dropdown */\n",
       "\n",
       "#sk-container-id-4 div.sk-toggleable__content {\n",
       "  max-height: 0;\n",
       "  max-width: 0;\n",
       "  overflow: hidden;\n",
       "  text-align: left;\n",
       "  /* unfitted */\n",
       "  background-color: var(--sklearn-color-unfitted-level-0);\n",
       "}\n",
       "\n",
       "#sk-container-id-4 div.sk-toggleable__content.fitted {\n",
       "  /* fitted */\n",
       "  background-color: var(--sklearn-color-fitted-level-0);\n",
       "}\n",
       "\n",
       "#sk-container-id-4 div.sk-toggleable__content pre {\n",
       "  margin: 0.2em;\n",
       "  border-radius: 0.25em;\n",
       "  color: var(--sklearn-color-text);\n",
       "  /* unfitted */\n",
       "  background-color: var(--sklearn-color-unfitted-level-0);\n",
       "}\n",
       "\n",
       "#sk-container-id-4 div.sk-toggleable__content.fitted pre {\n",
       "  /* unfitted */\n",
       "  background-color: var(--sklearn-color-fitted-level-0);\n",
       "}\n",
       "\n",
       "#sk-container-id-4 input.sk-toggleable__control:checked~div.sk-toggleable__content {\n",
       "  /* Expand drop-down */\n",
       "  max-height: 200px;\n",
       "  max-width: 100%;\n",
       "  overflow: auto;\n",
       "}\n",
       "\n",
       "#sk-container-id-4 input.sk-toggleable__control:checked~label.sk-toggleable__label-arrow:before {\n",
       "  content: \"▾\";\n",
       "}\n",
       "\n",
       "/* Pipeline/ColumnTransformer-specific style */\n",
       "\n",
       "#sk-container-id-4 div.sk-label input.sk-toggleable__control:checked~label.sk-toggleable__label {\n",
       "  color: var(--sklearn-color-text);\n",
       "  background-color: var(--sklearn-color-unfitted-level-2);\n",
       "}\n",
       "\n",
       "#sk-container-id-4 div.sk-label.fitted input.sk-toggleable__control:checked~label.sk-toggleable__label {\n",
       "  background-color: var(--sklearn-color-fitted-level-2);\n",
       "}\n",
       "\n",
       "/* Estimator-specific style */\n",
       "\n",
       "/* Colorize estimator box */\n",
       "#sk-container-id-4 div.sk-estimator input.sk-toggleable__control:checked~label.sk-toggleable__label {\n",
       "  /* unfitted */\n",
       "  background-color: var(--sklearn-color-unfitted-level-2);\n",
       "}\n",
       "\n",
       "#sk-container-id-4 div.sk-estimator.fitted input.sk-toggleable__control:checked~label.sk-toggleable__label {\n",
       "  /* fitted */\n",
       "  background-color: var(--sklearn-color-fitted-level-2);\n",
       "}\n",
       "\n",
       "#sk-container-id-4 div.sk-label label.sk-toggleable__label,\n",
       "#sk-container-id-4 div.sk-label label {\n",
       "  /* The background is the default theme color */\n",
       "  color: var(--sklearn-color-text-on-default-background);\n",
       "}\n",
       "\n",
       "/* On hover, darken the color of the background */\n",
       "#sk-container-id-4 div.sk-label:hover label.sk-toggleable__label {\n",
       "  color: var(--sklearn-color-text);\n",
       "  background-color: var(--sklearn-color-unfitted-level-2);\n",
       "}\n",
       "\n",
       "/* Label box, darken color on hover, fitted */\n",
       "#sk-container-id-4 div.sk-label.fitted:hover label.sk-toggleable__label.fitted {\n",
       "  color: var(--sklearn-color-text);\n",
       "  background-color: var(--sklearn-color-fitted-level-2);\n",
       "}\n",
       "\n",
       "/* Estimator label */\n",
       "\n",
       "#sk-container-id-4 div.sk-label label {\n",
       "  font-family: monospace;\n",
       "  font-weight: bold;\n",
       "  display: inline-block;\n",
       "  line-height: 1.2em;\n",
       "}\n",
       "\n",
       "#sk-container-id-4 div.sk-label-container {\n",
       "  text-align: center;\n",
       "}\n",
       "\n",
       "/* Estimator-specific */\n",
       "#sk-container-id-4 div.sk-estimator {\n",
       "  font-family: monospace;\n",
       "  border: 1px dotted var(--sklearn-color-border-box);\n",
       "  border-radius: 0.25em;\n",
       "  box-sizing: border-box;\n",
       "  margin-bottom: 0.5em;\n",
       "  /* unfitted */\n",
       "  background-color: var(--sklearn-color-unfitted-level-0);\n",
       "}\n",
       "\n",
       "#sk-container-id-4 div.sk-estimator.fitted {\n",
       "  /* fitted */\n",
       "  background-color: var(--sklearn-color-fitted-level-0);\n",
       "}\n",
       "\n",
       "/* on hover */\n",
       "#sk-container-id-4 div.sk-estimator:hover {\n",
       "  /* unfitted */\n",
       "  background-color: var(--sklearn-color-unfitted-level-2);\n",
       "}\n",
       "\n",
       "#sk-container-id-4 div.sk-estimator.fitted:hover {\n",
       "  /* fitted */\n",
       "  background-color: var(--sklearn-color-fitted-level-2);\n",
       "}\n",
       "\n",
       "/* Specification for estimator info (e.g. \"i\" and \"?\") */\n",
       "\n",
       "/* Common style for \"i\" and \"?\" */\n",
       "\n",
       ".sk-estimator-doc-link,\n",
       "a:link.sk-estimator-doc-link,\n",
       "a:visited.sk-estimator-doc-link {\n",
       "  float: right;\n",
       "  font-size: smaller;\n",
       "  line-height: 1em;\n",
       "  font-family: monospace;\n",
       "  background-color: var(--sklearn-color-background);\n",
       "  border-radius: 1em;\n",
       "  height: 1em;\n",
       "  width: 1em;\n",
       "  text-decoration: none !important;\n",
       "  margin-left: 1ex;\n",
       "  /* unfitted */\n",
       "  border: var(--sklearn-color-unfitted-level-1) 1pt solid;\n",
       "  color: var(--sklearn-color-unfitted-level-1);\n",
       "}\n",
       "\n",
       ".sk-estimator-doc-link.fitted,\n",
       "a:link.sk-estimator-doc-link.fitted,\n",
       "a:visited.sk-estimator-doc-link.fitted {\n",
       "  /* fitted */\n",
       "  border: var(--sklearn-color-fitted-level-1) 1pt solid;\n",
       "  color: var(--sklearn-color-fitted-level-1);\n",
       "}\n",
       "\n",
       "/* On hover */\n",
       "div.sk-estimator:hover .sk-estimator-doc-link:hover,\n",
       ".sk-estimator-doc-link:hover,\n",
       "div.sk-label-container:hover .sk-estimator-doc-link:hover,\n",
       ".sk-estimator-doc-link:hover {\n",
       "  /* unfitted */\n",
       "  background-color: var(--sklearn-color-unfitted-level-3);\n",
       "  color: var(--sklearn-color-background);\n",
       "  text-decoration: none;\n",
       "}\n",
       "\n",
       "div.sk-estimator.fitted:hover .sk-estimator-doc-link.fitted:hover,\n",
       ".sk-estimator-doc-link.fitted:hover,\n",
       "div.sk-label-container:hover .sk-estimator-doc-link.fitted:hover,\n",
       ".sk-estimator-doc-link.fitted:hover {\n",
       "  /* fitted */\n",
       "  background-color: var(--sklearn-color-fitted-level-3);\n",
       "  color: var(--sklearn-color-background);\n",
       "  text-decoration: none;\n",
       "}\n",
       "\n",
       "/* Span, style for the box shown on hovering the info icon */\n",
       ".sk-estimator-doc-link span {\n",
       "  display: none;\n",
       "  z-index: 9999;\n",
       "  position: relative;\n",
       "  font-weight: normal;\n",
       "  right: .2ex;\n",
       "  padding: .5ex;\n",
       "  margin: .5ex;\n",
       "  width: min-content;\n",
       "  min-width: 20ex;\n",
       "  max-width: 50ex;\n",
       "  color: var(--sklearn-color-text);\n",
       "  box-shadow: 2pt 2pt 4pt #999;\n",
       "  /* unfitted */\n",
       "  background: var(--sklearn-color-unfitted-level-0);\n",
       "  border: .5pt solid var(--sklearn-color-unfitted-level-3);\n",
       "}\n",
       "\n",
       ".sk-estimator-doc-link.fitted span {\n",
       "  /* fitted */\n",
       "  background: var(--sklearn-color-fitted-level-0);\n",
       "  border: var(--sklearn-color-fitted-level-3);\n",
       "}\n",
       "\n",
       ".sk-estimator-doc-link:hover span {\n",
       "  display: block;\n",
       "}\n",
       "\n",
       "/* \"?\"-specific style due to the `<a>` HTML tag */\n",
       "\n",
       "#sk-container-id-4 a.estimator_doc_link {\n",
       "  float: right;\n",
       "  font-size: 1rem;\n",
       "  line-height: 1em;\n",
       "  font-family: monospace;\n",
       "  background-color: var(--sklearn-color-background);\n",
       "  border-radius: 1rem;\n",
       "  height: 1rem;\n",
       "  width: 1rem;\n",
       "  text-decoration: none;\n",
       "  /* unfitted */\n",
       "  color: var(--sklearn-color-unfitted-level-1);\n",
       "  border: var(--sklearn-color-unfitted-level-1) 1pt solid;\n",
       "}\n",
       "\n",
       "#sk-container-id-4 a.estimator_doc_link.fitted {\n",
       "  /* fitted */\n",
       "  border: var(--sklearn-color-fitted-level-1) 1pt solid;\n",
       "  color: var(--sklearn-color-fitted-level-1);\n",
       "}\n",
       "\n",
       "/* On hover */\n",
       "#sk-container-id-4 a.estimator_doc_link:hover {\n",
       "  /* unfitted */\n",
       "  background-color: var(--sklearn-color-unfitted-level-3);\n",
       "  color: var(--sklearn-color-background);\n",
       "  text-decoration: none;\n",
       "}\n",
       "\n",
       "#sk-container-id-4 a.estimator_doc_link.fitted:hover {\n",
       "  /* fitted */\n",
       "  background-color: var(--sklearn-color-fitted-level-3);\n",
       "}\n",
       "</style><div id=\"sk-container-id-4\" class=\"sk-top-container\"><div class=\"sk-text-repr-fallback\"><pre>LogisticRegression(C=10, max_iter=200, solver=&#x27;liblinear&#x27;)</pre><b>In a Jupyter environment, please rerun this cell to show the HTML representation or trust the notebook. <br />On GitHub, the HTML representation is unable to render, please try loading this page with nbviewer.org.</b></div><div class=\"sk-container\" hidden><div class=\"sk-item\"><div class=\"sk-estimator fitted sk-toggleable\"><input class=\"sk-toggleable__control sk-hidden--visually\" id=\"sk-estimator-id-4\" type=\"checkbox\" checked><label for=\"sk-estimator-id-4\" class=\"sk-toggleable__label fitted sk-toggleable__label-arrow fitted\">&nbsp;&nbsp;LogisticRegression<a class=\"sk-estimator-doc-link fitted\" rel=\"noreferrer\" target=\"_blank\" href=\"https://scikit-learn.org/1.5/modules/generated/sklearn.linear_model.LogisticRegression.html\">?<span>Documentation for LogisticRegression</span></a><span class=\"sk-estimator-doc-link fitted\">i<span>Fitted</span></span></label><div class=\"sk-toggleable__content fitted\"><pre>LogisticRegression(C=10, max_iter=200, solver=&#x27;liblinear&#x27;)</pre></div> </div></div></div></div>"
      ],
      "text/plain": [
       "LogisticRegression(C=10, max_iter=200, solver='liblinear')"
      ]
     },
     "execution_count": 165,
     "metadata": {},
     "output_type": "execute_result"
    }
   ],
   "source": [
    "# Building Logistic Regression Model\n",
    "logreg_model = LogisticRegression(solver='liblinear', penalty= 'l2', max_iter= 200, C= 10)\n",
    "logreg_model.fit(X_train, y_train)"
   ]
  },
  {
   "cell_type": "code",
   "execution_count": 167,
   "id": "d64d8bd5-b30f-4398-be8f-8b0d357948fa",
   "metadata": {},
   "outputs": [],
   "source": [
    "# Prediction on X_test using Logistic Regression Model\n",
    "y_pred_logreg = logreg_model.predict(X_test)"
   ]
  },
  {
   "cell_type": "code",
   "execution_count": 169,
   "id": "de7731bd-04aa-417d-aa30-493d34f09631",
   "metadata": {},
   "outputs": [
    {
     "name": "stdout",
     "output_type": "stream",
     "text": [
      "Logistic Regression Evaluation:\n",
      "Accuracy: 0.8348\n",
      "\n",
      "Classification Report:\n",
      "              precision    recall  f1-score   support\n",
      "\n",
      "           0       0.77      0.85      0.81       955\n",
      "           1       0.85      0.82      0.83       985\n",
      "           2       0.89      0.88      0.88      1021\n",
      "           3       0.81      0.79      0.80      1030\n",
      "           4       0.81      0.76      0.78      1034\n",
      "           5       0.90      0.93      0.92       995\n",
      "           6       0.89      0.89      0.89       986\n",
      "           7       0.84      0.84      0.84      1008\n",
      "           8       0.78      0.77      0.77      1009\n",
      "           9       0.82      0.83      0.82       977\n",
      "\n",
      "    accuracy                           0.83     10000\n",
      "   macro avg       0.83      0.84      0.83     10000\n",
      "weighted avg       0.83      0.83      0.83     10000\n",
      "\n"
     ]
    }
   ],
   "source": [
    "# Evaluating Logistic Regression Model\n",
    "\n",
    "print(\"Logistic Regression Evaluation:\")\n",
    "print(f\"Accuracy: {accuracy_score(y_test, y_pred_logreg)}\")\n",
    "\n",
    "print(\"\\nClassification Report:\")\n",
    "print(classification_report(y_test, y_pred_logreg))"
   ]
  },
  {
   "cell_type": "markdown",
   "id": "550f30ca-ee98-4ebe-9a2e-a105d889ae93",
   "metadata": {},
   "source": [
    "#### Observation:\n",
    "1. Accuracy is improved from 82.86% to 83.48% on unseen data when hyperparameter tuned values are considered. So we can consider this model for predicting catergories of a news article.\n",
    "2. We have high precision and recall for all the categories. This indicates that the model is able to correctly predict the categories for the given news article."
   ]
  },
  {
   "cell_type": "markdown",
   "id": "02ab9afb-5239-4029-95ce-9308072581f1",
   "metadata": {},
   "source": [
    "#### Visualisation of Logistic Regression Model"
   ]
  },
  {
   "cell_type": "code",
   "execution_count": 175,
   "id": "3e8d49c5-2aab-404d-9c06-9f28f092f00a",
   "metadata": {},
   "outputs": [
    {
     "data": {
      "image/png": "[encoded data removed]",
      "text/plain": [
       "<Figure size 400x400 with 2 Axes>"
      ]
     },
     "metadata": {},
     "output_type": "display_data"
    }
   ],
   "source": [
    "import numpy as np\n",
    "\n",
    "# Generating confusion matrix\n",
    "lr_confusion_matrix = confusion_matrix(y_test, y_pred_logreg,labels=np.arange(10))\n",
    "\n",
    "# Plotting confusion matrix\n",
    "plt.figure(figsize=(4, 4))\n",
    "sns.heatmap(lr_confusion_matrix, annot=True, fmt='d', cmap='Blues',xticklabels=np.arange(10), yticklabels=np.arange(10))\n",
    "\n",
    "# Setting labels and title\n",
    "plt.xlabel('Predicted')\n",
    "plt.ylabel('Actual')\n",
    "plt.title('Confusion Matrix for Logistic Regression Model')\n",
    "\n",
    "# Displaying plot\n",
    "plt.show()"
   ]
  },
  {
   "cell_type": "markdown",
   "id": "83ebb543-a6e1-42f4-9374-824906cf0b8d",
   "metadata": {},
   "source": [
    "#### Observation:\n",
    "1. All Diagonal elements of the confusion matrix have high values indicating that the model is correctly classifying instances for all the classes. \n",
    "2. We have low values in all off diagonal matrix indicating that the misclassification of the classes is less by the model.\n",
    "3. Hence we can prefer Logistic Regression Model for predicting categories for the unseen or future news article."
   ]
  },
  {
   "cell_type": "code",
   "execution_count": 180,
   "id": "8768b01d-19d9-4fcb-b1bd-0921cd363a7b",
   "metadata": {},
   "outputs": [],
   "source": [
    "# Creating pre processing text function\n",
    "def preprocessing_text(new_headline, new_short_description,new_keywords):\n",
    "    # Convertion to lowercase\n",
    "    new_headline = new_headline.lower()\n",
    "    new_short_description = new_short_description.lower()\n",
    "    new_keywords = new_keywords.lower()\n",
    "\n",
    "    # Removing hyphens and split compound words\n",
    "    new_keywords = re.sub(r'[-]', ' ', new_keywords)\n",
    "\n",
    "    # Removing special characters and punctuation\n",
    "    new_headline = re.sub(r'[^a-z\\s]', '', new_headline) \n",
    "    new_short_description = re.sub(r'[^a-z\\s]', '', new_short_description)    \n",
    "    new_keywords = re.sub(r'[^a-z\\s]', '', new_keywords)\n",
    "    \n",
    "    # Applying tokenisation\n",
    "    new_headline = word_tokenize(new_headline)\n",
    "    new_short_description = word_tokenize(new_short_description)\n",
    "    new_keywords = word_tokenize(new_keywords)\n",
    "\n",
    "    # Removing any extra spaces in each word of the new_review\n",
    "    new_headline = [word.strip() for word in new_headline]\n",
    "    new_short_description = [word.strip() for word in new_short_description]\n",
    "    new_keywords = [word.strip() for word in new_keywords]\n",
    "\n",
    "    # Removing stopwords from new_review\n",
    "    new_headline = [word for word in new_headline if word not in stop_words]\n",
    "    new_short_description = [word for word in new_short_description if word not in stop_words]\n",
    "    new_keywords = [word for word in new_keywords if word not in stop_words]\n",
    "\n",
    "    # Applying Lemmatization\n",
    "    lemmatizer = WordNetLemmatizer()\n",
    "    new_headline = [lemmatizer.lemmatize(word) for word in new_headline]\n",
    "    new_short_description = [lemmatizer.lemmatize(word) for word in new_short_description]\n",
    "    new_keywords = [lemmatizer.lemmatize(word) for word in new_keywords]\n",
    "\n",
    "    # Joining input review\n",
    "    new_headline = ' '.join(new_headline)\n",
    "    new_short_description = ' '.join(new_short_description)\n",
    "    new_keywords = ' '.join(new_keywords) \n",
    "\n",
    "    pre_processed_news = new_headline + ' ' + new_short_description + ' ' + new_keywords\n",
    "\n",
    "    return pre_processed_news\n"
   ]
  },
  {
   "cell_type": "code",
   "execution_count": 182,
   "id": "406de6a4-c236-4a0b-867c-d88d7accd07b",
   "metadata": {},
   "outputs": [],
   "source": [
    "# Creating predict_sentiment function\n",
    "def predict_sentiment(input_new_headline, input_new_short_description, input_new_keywords):\n",
    "    # Preprocess the review (extracting the first review from the list)\n",
    "    preprocessed_news = preprocessing_text(input_new_headline, input_new_short_description, input_new_keywords)\n",
    "\n",
    "    headline_word_count = len(input_new_headline.split())\n",
    "    short_decription_word_count = len(input_new_short_description.split())\n",
    "   \n",
    "    headline_char_count= len(input_new_headline)\n",
    "    short_description_char_count= len(input_new_short_description)\n",
    "    \n",
    "    headline_avg_word_length = headline_char_count / headline_word_count if headline_word_count > 0 else 0\n",
    "    short_description_avg_word_length = short_description_char_count / short_decription_word_count if short_decription_word_count > 0 else 0\n",
    "   \n",
    "    # Creating dataFrame for the news article with the additional features\n",
    "    new_data = pd.DataFrame({\n",
    "        'preprocessed_news': [preprocessed_news],\n",
    "        'headline_word_count': [headline_word_count],\n",
    "        'short_decription_word_count': [short_decription_word_count],\n",
    "        'headline_char_count' : [headline_char_count],\n",
    "        'short_description_char_count':[short_description_char_count],\n",
    "        'headline_avg_word_length': [headline_avg_word_length],\n",
    "        'short_description_avg_word_length': [short_description_avg_word_length]\n",
    "    })\n",
    "\n",
    "    # Transforming news article using the vectorizer\n",
    "    news_tfidf = vectorizer.transform(new_data['preprocessed_news'])\n",
    "\n",
    "    # Combining transformed TF-IDF features with the additional features\n",
    "    additional_features = new_data[['headline_word_count','short_decription_word_count','headline_char_count','short_description_char_count',\n",
    "                                    'headline_avg_word_length','short_description_avg_word_length']].values\n",
    "    combined_features = hstack([news_tfidf, additional_features])\n",
    "\n",
    "    # Predicting sentiment using the logreg_model\n",
    "    predictions = logreg_model.predict(combined_features)\n",
    "\n",
    "    # Label encoder gives labelling based on alphabetical order, so matching prediction with category label\n",
    "    if predictions==0:\n",
    "        print(\"News article belongs to Business Category\")\n",
    "    elif predictions==1:\n",
    "        print(\"News article belongs to Food and Drink Category\")\n",
    "    elif predictions==2:\n",
    "        print(\"News article belongs to Entertainment Category\")    \n",
    "    elif predictions==3:\n",
    "        print(\"News article belongs to Sports Category\")\n",
    "    elif predictions==4:\n",
    "        print(\"News article belongs to Parenting Category\")\n",
    "    elif predictions==5:\n",
    "        print(\"News article belongs to Style and Beauty Category\")\n",
    "    elif predictions==6:\n",
    "        print(\"News article belongs to Politics Category\")\n",
    "    elif predictions==7:\n",
    "        print(\"News article belongs to Travel Category\")\n",
    "    elif predictions==8:\n",
    "        print(\"News article belongs to Wellness Category\")\n",
    "    else:\n",
    "        print(\"News article belongs to World News Category\")\n"
   ]
  },
  {
   "cell_type": "markdown",
   "id": "89a420a9-f10a-4d44-876f-89e90712bf9c",
   "metadata": {},
   "source": [
    "#### Sample news article belonging to Business Category "
   ]
  },
  {
   "cell_type": "code",
   "execution_count": 198,
   "id": "bc2526ef-c42e-4b5a-92f4-9dff0c203f49",
   "metadata": {},
   "outputs": [
    {
     "name": "stdin",
     "output_type": "stream",
     "text": [
      "Enter the headline\n",
      " US Securities Regulator Seeks India's Help in Fraud Probe Against Gautam Adani\"\n",
      "Enter the short description\n",
      " US prosecutors charge Gautam Adani with involvement in a plan to pay over $250 million in bribes to Indian officials.\n",
      "Enter the keywords\n",
      " Gautam Adani, US Securities Regulator, fraud probe, bribery, India\n"
     ]
    },
    {
     "name": "stdout",
     "output_type": "stream",
     "text": [
      "News article belongs to Business Category\n"
     ]
    }
   ],
   "source": [
    "# Taking news article from user\n",
    "user_new_headline=input(\"Enter the headline\\n\")\n",
    "user_new_short_description=input(\"Enter the short description\\n\")\n",
    "user_new_keywords=input(\"Enter the keywords\\n\")\n",
    "\n",
    "# Calling predict_sentiment function\n",
    "predict_sentiment(user_new_headline, user_new_short_description, user_new_keywords)"
   ]
  },
  {
   "cell_type": "markdown",
   "id": "fa1e6b90-1f04-45fc-a8f5-22a25b61d5a7",
   "metadata": {},
   "source": [
    "#### Sample news article belonging to World News Category "
   ]
  },
  {
   "cell_type": "code",
   "execution_count": 200,
   "id": "21fe40bc-35a2-4416-9cfa-2cec7878949a",
   "metadata": {},
   "outputs": [
    {
     "name": "stdin",
     "output_type": "stream",
     "text": [
      "Enter the headline\n",
      " Pope Francis' Health Declines Amid Succession Concerns\"\n",
      "Enter the short description\n",
      " ope Francis' worsening health raises concerns over the papal succession.\n",
      "Enter the keywords\n",
      " Pope Francis, health, papal succession, Vatican, Catholic Church\n"
     ]
    },
    {
     "name": "stdout",
     "output_type": "stream",
     "text": [
      "News article belongs to World News Category\n"
     ]
    }
   ],
   "source": [
    "# Taking news article from user  \n",
    "user_new_headline=input(\"Enter the headline\\n\")\n",
    "user_new_short_description=input(\"Enter the short description\\n\")\n",
    "user_new_keywords=input(\"Enter the keywords\\n\")\n",
    "\n",
    "# Calling predict_sentiment function\n",
    "predict_sentiment(user_new_headline, user_new_short_description, user_new_keywords)"
   ]
  },
  {
   "cell_type": "markdown",
   "id": "c808454a-cd84-4bde-acda-d915b08f0ad0",
   "metadata": {},
   "source": [
    "#### Sample news article belonging to Sports Category "
   ]
  },
  {
   "cell_type": "code",
   "execution_count": 202,
   "id": "4200f3ce-8771-4444-957e-fcf496cbd3d7",
   "metadata": {},
   "outputs": [
    {
     "name": "stdin",
     "output_type": "stream",
     "text": [
      "Enter the headline\n",
      " \"The Highs and Lows of Being a Youth Sports Parent\"\n",
      "Enter the short description\n",
      " An honest look at the challenges and rewards of being a parent involved in youth sports, offering insights and advice.\n",
      "Enter the keywords\n",
      " youth sports, parenting, child development, family dynamics, sports involvement\n"
     ]
    },
    {
     "name": "stdout",
     "output_type": "stream",
     "text": [
      "News article belongs to Sports Category\n"
     ]
    }
   ],
   "source": [
    "# Taking news article from user\n",
    "user_new_headline=input(\"Enter the headline\\n\")\n",
    "user_new_short_description=input(\"Enter the short description\\n\")\n",
    "user_new_keywords=input(\"Enter the keywords\\n\")\n",
    "\n",
    "# Calling predict_sentiment function\n",
    "predict_sentiment(user_new_headline, user_new_short_description, user_new_keywords)"
   ]
  },
  {
   "cell_type": "markdown",
   "id": "6e0bcf1c-bf94-43fc-a61f-72be48787fd9",
   "metadata": {
    "id": "6e0bcf1c-bf94-43fc-a61f-72be48787fd9"
   },
   "source": [
    "# Final Insights:"
   ]
  },
  {
   "cell_type": "markdown",
   "id": "e60c2820-9915-4cbd-bf8e-88711b5b80c3",
   "metadata": {
    "id": "5e535cb9-d674-4423-9273-38cc36304022"
   },
   "source": [
    "1. News Article dataset is a large dataset with 50k records of news records.\n",
    "2. Have trained the dataset with Logistic Regression, Random Forest and SVM algorithms.\n",
    "3. Among these algorithms, Logistic Regression Algorithm works better as it has accuracy value of 82.86 percent.\n",
    "4. This indicates that the model is able to predict the new or unseen data correctly 82 times out of 100 times.\n",
    "5. From confusion matrix, we observe a high value for all diagonal elements. This implies that the model is correctly predicting category to which the news article belongs to.\n",
    "6. So, we can completely rely on this model for future or unseen news article to know its category.\n"
   ]
  }
 ],
 "metadata": {
  "colab": {
   "provenance": []
  },
  "kernelspec": {
   "display_name": "Python 3 (ipykernel)",
   "language": "python",
   "name": "python3"
  },
  "language_info": {
   "codemirror_mode": {
    "name": "ipython",
    "version": 3
   },
   "file_extension": ".py",
   "mimetype": "text/x-python",
   "name": "python",
   "nbconvert_exporter": "python",
   "pygments_lexer": "ipython3",
   "version": "3.12.7"
  }
 },
 "nbformat": 4,
 "nbformat_minor": 5
}
